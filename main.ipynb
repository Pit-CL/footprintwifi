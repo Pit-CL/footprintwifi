{
 "cells": [
  {
   "cell_type": "markdown",
   "source": [
    "# Importando las librerías."
   ],
   "metadata": {}
  },
  {
   "cell_type": "code",
   "execution_count": 1,
   "source": [
    "import findspark\n",
    "from pyspark import SparkContext, SparkConf, SQLContext\n",
    "import csv\n",
    "import geopandas as gpd\n",
    "from pyspark.sql.functions import substring, expr\n",
    "from shapely import wkt\n",
    "import pandas as pd\n",
    "findspark.init()  # Con este no me tira error de JVM."
   ],
   "outputs": [],
   "metadata": {}
  },
  {
   "cell_type": "markdown",
   "source": [
    "# Abriendo los archivos."
   ],
   "metadata": {}
  },
  {
   "cell_type": "code",
   "execution_count": 2,
   "source": [
    "# Se setea el Master y se le da nombre a la aplicacion.\n",
    "conf = SparkConf().setMaster('local').setAppName('Tarea Analisis de BigData')"
   ],
   "outputs": [],
   "metadata": {}
  },
  {
   "cell_type": "code",
   "execution_count": 3,
   "source": [
    "# Se inicia el cluster Spark.\n",
    "sc = SparkContext.getOrCreate(conf=conf)"
   ],
   "outputs": [],
   "metadata": {}
  },
  {
   "cell_type": "code",
   "execution_count": 4,
   "source": [
    "# Se inicia SQLContext desde el cluster de Spark.\n",
    "sqlContext = SQLContext(sc)"
   ],
   "outputs": [],
   "metadata": {}
  },
  {
   "cell_type": "code",
   "execution_count": 5,
   "source": [
    "# Carpeta donde estan guardados los archivos\n",
    "FilePath = '/home/rafa/Dropbox/Linux_MDS/BDAnalytics/sprint1/data'"
   ],
   "outputs": [],
   "metadata": {}
  },
  {
   "cell_type": "code",
   "execution_count": 6,
   "source": [
    "# Nombres de los archivo.\n",
    "FileName1 = 'wifi_2017.csv'\n",
    "FileName2 = 'wifi_2018.csv'\n",
    "FileName3 = 'wifi_2019.csv'"
   ],
   "outputs": [],
   "metadata": {}
  },
  {
   "cell_type": "code",
   "execution_count": 7,
   "source": [
    "# Combinando\n",
    "FullPath1 = FilePath + '/' + FileName1\n",
    "FullPath2 = FilePath + '/' + FileName2\n",
    "FullPath3 = FilePath + '/' + FileName3\n"
   ],
   "outputs": [],
   "metadata": {}
  },
  {
   "cell_type": "code",
   "execution_count": 8,
   "source": [
    "# Dataframes\n",
    "df_2017 = sqlContext.read.csv(FullPath1, header=True)\n",
    "df_2018 = sqlContext.read.csv(FullPath2, header=True)\n",
    "df_2019 = sqlContext.read.csv(FullPath3, header=True)"
   ],
   "outputs": [],
   "metadata": {}
  },
  {
   "cell_type": "markdown",
   "source": [
    "# Mostrando los archivos."
   ],
   "metadata": {}
  },
  {
   "cell_type": "code",
   "execution_count": 9,
   "source": [
    "# Mostrando los data frame\n",
    "df_2017.show()"
   ],
   "outputs": [
    {
     "output_type": "stream",
     "name": "stdout",
     "text": [
      "+---+-----------+------------+-----------+-----------+------+----------+----------+\n",
      "| id|data_source|       bssid|        lat|        lon| range|   updated|   created|\n",
      "+---+-----------+------------+-----------+-----------+------+----------+----------+\n",
      "|  1|          0|0001E3C290F9|45.22128388|16.54838246|139.01|1428513555|1428513555|\n",
      "|  2|          0|000C421F65E9|45.22027969|16.54707052|140.00|1428513555|1428513555|\n",
      "|  3|          0|000C422377FC|45.20828617|16.90385474|140.00|1428513555|1428513555|\n",
      "|  4|          0|000C422377F4|45.20799464|16.90336159|140.00|1428513555|1428513555|\n",
      "|  5|          0|000C422377C5|45.17570261|16.81720250|140.00|1428513555|1428513555|\n",
      "|  6|          0|000C42630AED|45.18732229|16.83431923|140.00|1428513555|1428513555|\n",
      "|  7|          0|000C42630AEC|45.18054666|16.81053529|140.00|1428513555|1428513555|\n",
      "|  8|          0|0005595C556A|45.18191138|16.80946429|140.00|1428513555|1428513555|\n",
      "|  9|          0|000C421BB4FE|45.20791481|16.90272641|140.00|1428513555|1428513555|\n",
      "| 10|          0|000C422CC930|45.19232675|16.84438858|140.00|1428513555|1428513555|\n",
      "| 11|          0|0005595C7B59|45.18621844|16.83064594|140.00|1428513555|1428513555|\n",
      "| 12|          0|000C420CCF25|45.17452761|16.81220048|140.00|1428513555|1428513555|\n",
      "| 13|          0|000559604EC0|45.20764763|16.89996500|140.00|1428513555|1428513555|\n",
      "| 14|          0|000C42654000|45.17547062|16.81085728|140.00|1428513555|1428513555|\n",
      "| 15|          0|00040EDA3168|45.19115249|16.84309165|140.00|1428513555|1428513555|\n",
      "| 16|          0|000559602166|45.17589047|16.81072141|140.00|1428513555|1428513555|\n",
      "| 17|          0|000FFD1F37D8|45.17461082|16.81284496|140.00|1428513555|1428513555|\n",
      "| 18|          0|000C4223D3BF|45.17934993|16.82277136|140.00|1428513555|1428513555|\n",
      "| 19|          0|000C42059D59|45.17618721|16.81837295|140.00|1428513555|1428513555|\n",
      "| 20|          0|000C420C4B40|45.18137433|16.80990723|140.00|1428513555|1428513555|\n",
      "+---+-----------+------------+-----------+-----------+------+----------+----------+\n",
      "only showing top 20 rows\n",
      "\n"
     ]
    }
   ],
   "metadata": {}
  },
  {
   "cell_type": "code",
   "execution_count": 10,
   "source": [
    "df_2018.show()"
   ],
   "outputs": [
    {
     "output_type": "stream",
     "name": "stdout",
     "text": [
      "+-------+------------+-----------+-----------+----------+----+\n",
      "|     id|       bssid|        lat|        lon|   updated|data|\n",
      "+-------+------------+-----------+-----------+----------+----+\n",
      "|1773306|F83DFFBBBA29|59.31152020|18.07471230|1428513555|   0|\n",
      "|1773307|0026180A9583|59.29648818|18.06929944|1428513555|   0|\n",
      "|1773308|00248C3B965B|59.30886047|18.07669099|1428513555|   0|\n",
      "|1773309|00248CAAF77A|59.29378075|18.05087886|1428513555|   0|\n",
      "|1773310|4C60DE7CC982|59.31155087|18.07525706|1428513555|   0|\n",
      "|1773311|00248C93A4FC|59.30421726|18.07856642|1428513555|   0|\n",
      "|1773312|A021B74D1A61|59.29762960|18.07197083|1428513555|   0|\n",
      "|1773313|0001387568D4|59.29430646|18.04973913|1428513555|   0|\n",
      "|1773315|0025BC8DA6FC|59.31209248|18.07632087|1428513555|   0|\n",
      "|1773317|2837374A8235|59.30896188|18.07752865|1428513555|   0|\n",
      "|1773318|0016A61817FA|59.29355670|18.05207263|1428513555|   0|\n",
      "|1773319|00223F9C5739|59.29361025|18.05284041|1428513555|   0|\n",
      "|1773320|0025BC8DA6FB|59.31190825|18.07605543|1428513555|   0|\n",
      "|1773321|0CD9969C4410|59.30579556|18.07770220|1428513555|   0|\n",
      "|1773322|7071BC1B9B9A|59.31009004|18.07956065|1428513555|   0|\n",
      "|1773323|E0699553C612|59.30898333|18.07772822|1428513555|   0|\n",
      "|1773325|008EF2A8D092|59.29912092|18.07637351|1428513555|   0|\n",
      "|1773326|0CD9969C4411|59.30564208|18.07779933|1428513555|   0|\n",
      "|1773327|00221567A0BA|59.29359843|18.05273745|1428513555|   0|\n",
      "|1773328|10BF483D8CA7|59.31015794|18.07976227|1428513555|   0|\n",
      "+-------+------------+-----------+-----------+----------+----+\n",
      "only showing top 20 rows\n",
      "\n"
     ]
    }
   ],
   "metadata": {}
  },
  {
   "cell_type": "code",
   "execution_count": 11,
   "source": [
    "df_2019.show()"
   ],
   "outputs": [
    {
     "output_type": "stream",
     "name": "stdout",
     "text": [
      "+---+------------+-----------+-----------+----------+----+\n",
      "| id|       bssid|        lat|        lon|   updated|data|\n",
      "+---+------------+-----------+-----------+----------+----+\n",
      "|  1|0001E3C290F9|45.22128388|16.54838246|1428513555|   0|\n",
      "|  2|000C421F65E9|45.22027969|16.54707052|1428513555|   0|\n",
      "|  3|000C422377FC|45.20828617|16.90385474|1428513555|   0|\n",
      "|  4|000C422377F4|45.20799464|16.90336159|1428513555|   0|\n",
      "|  5|000C422377C5|45.17570261|16.81720250|1428513555|   0|\n",
      "|  6|000C42630AED|45.18732229|16.83431923|1428513555|   0|\n",
      "|  7|000C42630AEC|45.18054666|16.81053529|1428513555|   0|\n",
      "|  8|0005595C556A|45.18191138|16.80946429|1428513555|   0|\n",
      "|  9|000C421BB4FE|45.20791481|16.90272641|1428513555|   0|\n",
      "| 10|000C422CC930|45.19232675|16.84438858|1428513555|   0|\n",
      "| 11|0005595C7B59|45.18621844|16.83064594|1428513555|   0|\n",
      "| 12|000C420CCF25|45.17452761|16.81220048|1428513555|   0|\n",
      "| 13|000559604EC0|45.20764763|16.89996500|1428513555|   0|\n",
      "| 14|000C42654000|45.17547062|16.81085728|1428513555|   0|\n",
      "| 15|00040EDA3168|45.19115249|16.84309165|1428513555|   0|\n",
      "| 16|000559602166|45.17589047|16.81072141|1428513555|   0|\n",
      "| 17|000FFD1F37D8|45.17461082|16.81284496|1428513555|   0|\n",
      "| 18|000C4223D3BF|45.17934993|16.82277136|1428513555|   0|\n",
      "| 19|000C42059D59|45.17618721|16.81837295|1428513555|   0|\n",
      "| 20|000C420C4B40|45.18137433|16.80990723|1428513555|   0|\n",
      "+---+------------+-----------+-----------+----------+----+\n",
      "only showing top 20 rows\n",
      "\n"
     ]
    }
   ],
   "metadata": {}
  },
  {
   "cell_type": "code",
   "execution_count": 12,
   "source": [
    "# Muestro el esquema de los dataframes.\n",
    "df_2017.printSchema()"
   ],
   "outputs": [
    {
     "output_type": "stream",
     "name": "stdout",
     "text": [
      "root\n",
      " |-- id: string (nullable = true)\n",
      " |-- data_source: string (nullable = true)\n",
      " |-- bssid: string (nullable = true)\n",
      " |-- lat: string (nullable = true)\n",
      " |-- lon: string (nullable = true)\n",
      " |-- range: string (nullable = true)\n",
      " |-- updated: string (nullable = true)\n",
      " |-- created: string (nullable = true)\n",
      "\n"
     ]
    }
   ],
   "metadata": {}
  },
  {
   "cell_type": "code",
   "execution_count": 13,
   "source": [
    "df_2018.printSchema()"
   ],
   "outputs": [
    {
     "output_type": "stream",
     "name": "stdout",
     "text": [
      "root\n",
      " |-- id: string (nullable = true)\n",
      " |-- bssid: string (nullable = true)\n",
      " |-- lat: string (nullable = true)\n",
      " |-- lon: string (nullable = true)\n",
      " |-- updated: string (nullable = true)\n",
      " |-- data: string (nullable = true)\n",
      "\n"
     ]
    }
   ],
   "metadata": {}
  },
  {
   "cell_type": "code",
   "execution_count": 14,
   "source": [
    "df_2019.printSchema()"
   ],
   "outputs": [
    {
     "output_type": "stream",
     "name": "stdout",
     "text": [
      "root\n",
      " |-- id: string (nullable = true)\n",
      " |-- bssid: string (nullable = true)\n",
      " |-- lat: string (nullable = true)\n",
      " |-- lon: string (nullable = true)\n",
      " |-- updated: string (nullable = true)\n",
      " |-- data: string (nullable = true)\n",
      "\n"
     ]
    }
   ],
   "metadata": {}
  },
  {
   "cell_type": "markdown",
   "source": [
    "# Trabajo de orden y unión de datasets"
   ],
   "metadata": {}
  },
  {
   "cell_type": "code",
   "execution_count": 15,
   "source": [
    "# Cambiando el nombre a la columna data_source por data\n",
    "df_2017 = df_2017.withColumnRenamed(\"data_source\",\"data\")\n",
    "\n",
    "df_2017.printSchema()\n",
    "\n",
    "df_2017.show()"
   ],
   "outputs": [
    {
     "output_type": "stream",
     "name": "stdout",
     "text": [
      "root\n",
      " |-- id: string (nullable = true)\n",
      " |-- data: string (nullable = true)\n",
      " |-- bssid: string (nullable = true)\n",
      " |-- lat: string (nullable = true)\n",
      " |-- lon: string (nullable = true)\n",
      " |-- range: string (nullable = true)\n",
      " |-- updated: string (nullable = true)\n",
      " |-- created: string (nullable = true)\n",
      "\n",
      "+---+----+------------+-----------+-----------+------+----------+----------+\n",
      "| id|data|       bssid|        lat|        lon| range|   updated|   created|\n",
      "+---+----+------------+-----------+-----------+------+----------+----------+\n",
      "|  1|   0|0001E3C290F9|45.22128388|16.54838246|139.01|1428513555|1428513555|\n",
      "|  2|   0|000C421F65E9|45.22027969|16.54707052|140.00|1428513555|1428513555|\n",
      "|  3|   0|000C422377FC|45.20828617|16.90385474|140.00|1428513555|1428513555|\n",
      "|  4|   0|000C422377F4|45.20799464|16.90336159|140.00|1428513555|1428513555|\n",
      "|  5|   0|000C422377C5|45.17570261|16.81720250|140.00|1428513555|1428513555|\n",
      "|  6|   0|000C42630AED|45.18732229|16.83431923|140.00|1428513555|1428513555|\n",
      "|  7|   0|000C42630AEC|45.18054666|16.81053529|140.00|1428513555|1428513555|\n",
      "|  8|   0|0005595C556A|45.18191138|16.80946429|140.00|1428513555|1428513555|\n",
      "|  9|   0|000C421BB4FE|45.20791481|16.90272641|140.00|1428513555|1428513555|\n",
      "| 10|   0|000C422CC930|45.19232675|16.84438858|140.00|1428513555|1428513555|\n",
      "| 11|   0|0005595C7B59|45.18621844|16.83064594|140.00|1428513555|1428513555|\n",
      "| 12|   0|000C420CCF25|45.17452761|16.81220048|140.00|1428513555|1428513555|\n",
      "| 13|   0|000559604EC0|45.20764763|16.89996500|140.00|1428513555|1428513555|\n",
      "| 14|   0|000C42654000|45.17547062|16.81085728|140.00|1428513555|1428513555|\n",
      "| 15|   0|00040EDA3168|45.19115249|16.84309165|140.00|1428513555|1428513555|\n",
      "| 16|   0|000559602166|45.17589047|16.81072141|140.00|1428513555|1428513555|\n",
      "| 17|   0|000FFD1F37D8|45.17461082|16.81284496|140.00|1428513555|1428513555|\n",
      "| 18|   0|000C4223D3BF|45.17934993|16.82277136|140.00|1428513555|1428513555|\n",
      "| 19|   0|000C42059D59|45.17618721|16.81837295|140.00|1428513555|1428513555|\n",
      "| 20|   0|000C420C4B40|45.18137433|16.80990723|140.00|1428513555|1428513555|\n",
      "+---+----+------------+-----------+-----------+------+----------+----------+\n",
      "only showing top 20 rows\n",
      "\n"
     ]
    }
   ],
   "metadata": {}
  },
  {
   "cell_type": "code",
   "execution_count": 16,
   "source": [
    "# Noto que hay columnas extras en un dataset, en primera instancia las elimino.\n",
    "df_2017 = df_2017.drop('range', 'created')\n",
    "\n",
    "df_2017.printSchema()\n",
    "\n",
    "df_2017.show()"
   ],
   "outputs": [
    {
     "output_type": "stream",
     "name": "stdout",
     "text": [
      "root\n",
      " |-- id: string (nullable = true)\n",
      " |-- data: string (nullable = true)\n",
      " |-- bssid: string (nullable = true)\n",
      " |-- lat: string (nullable = true)\n",
      " |-- lon: string (nullable = true)\n",
      " |-- updated: string (nullable = true)\n",
      "\n",
      "+---+----+------------+-----------+-----------+----------+\n",
      "| id|data|       bssid|        lat|        lon|   updated|\n",
      "+---+----+------------+-----------+-----------+----------+\n",
      "|  1|   0|0001E3C290F9|45.22128388|16.54838246|1428513555|\n",
      "|  2|   0|000C421F65E9|45.22027969|16.54707052|1428513555|\n",
      "|  3|   0|000C422377FC|45.20828617|16.90385474|1428513555|\n",
      "|  4|   0|000C422377F4|45.20799464|16.90336159|1428513555|\n",
      "|  5|   0|000C422377C5|45.17570261|16.81720250|1428513555|\n",
      "|  6|   0|000C42630AED|45.18732229|16.83431923|1428513555|\n",
      "|  7|   0|000C42630AEC|45.18054666|16.81053529|1428513555|\n",
      "|  8|   0|0005595C556A|45.18191138|16.80946429|1428513555|\n",
      "|  9|   0|000C421BB4FE|45.20791481|16.90272641|1428513555|\n",
      "| 10|   0|000C422CC930|45.19232675|16.84438858|1428513555|\n",
      "| 11|   0|0005595C7B59|45.18621844|16.83064594|1428513555|\n",
      "| 12|   0|000C420CCF25|45.17452761|16.81220048|1428513555|\n",
      "| 13|   0|000559604EC0|45.20764763|16.89996500|1428513555|\n",
      "| 14|   0|000C42654000|45.17547062|16.81085728|1428513555|\n",
      "| 15|   0|00040EDA3168|45.19115249|16.84309165|1428513555|\n",
      "| 16|   0|000559602166|45.17589047|16.81072141|1428513555|\n",
      "| 17|   0|000FFD1F37D8|45.17461082|16.81284496|1428513555|\n",
      "| 18|   0|000C4223D3BF|45.17934993|16.82277136|1428513555|\n",
      "| 19|   0|000C42059D59|45.17618721|16.81837295|1428513555|\n",
      "| 20|   0|000C420C4B40|45.18137433|16.80990723|1428513555|\n",
      "+---+----+------------+-----------+-----------+----------+\n",
      "only showing top 20 rows\n",
      "\n"
     ]
    }
   ],
   "metadata": {}
  },
  {
   "cell_type": "code",
   "execution_count": 17,
   "source": [
    "# Ahora ordeno las columnas para que todas tengan el mismo orden.\n",
    "df_2017 = df_2017.select('id','bssid','lat','lon', 'updated', 'data')\n",
    "\n",
    "df_2017.printSchema()\n",
    "\n",
    "df_2017.show()"
   ],
   "outputs": [
    {
     "output_type": "stream",
     "name": "stdout",
     "text": [
      "root\n",
      " |-- id: string (nullable = true)\n",
      " |-- bssid: string (nullable = true)\n",
      " |-- lat: string (nullable = true)\n",
      " |-- lon: string (nullable = true)\n",
      " |-- updated: string (nullable = true)\n",
      " |-- data: string (nullable = true)\n",
      "\n",
      "+---+------------+-----------+-----------+----------+----+\n",
      "| id|       bssid|        lat|        lon|   updated|data|\n",
      "+---+------------+-----------+-----------+----------+----+\n",
      "|  1|0001E3C290F9|45.22128388|16.54838246|1428513555|   0|\n",
      "|  2|000C421F65E9|45.22027969|16.54707052|1428513555|   0|\n",
      "|  3|000C422377FC|45.20828617|16.90385474|1428513555|   0|\n",
      "|  4|000C422377F4|45.20799464|16.90336159|1428513555|   0|\n",
      "|  5|000C422377C5|45.17570261|16.81720250|1428513555|   0|\n",
      "|  6|000C42630AED|45.18732229|16.83431923|1428513555|   0|\n",
      "|  7|000C42630AEC|45.18054666|16.81053529|1428513555|   0|\n",
      "|  8|0005595C556A|45.18191138|16.80946429|1428513555|   0|\n",
      "|  9|000C421BB4FE|45.20791481|16.90272641|1428513555|   0|\n",
      "| 10|000C422CC930|45.19232675|16.84438858|1428513555|   0|\n",
      "| 11|0005595C7B59|45.18621844|16.83064594|1428513555|   0|\n",
      "| 12|000C420CCF25|45.17452761|16.81220048|1428513555|   0|\n",
      "| 13|000559604EC0|45.20764763|16.89996500|1428513555|   0|\n",
      "| 14|000C42654000|45.17547062|16.81085728|1428513555|   0|\n",
      "| 15|00040EDA3168|45.19115249|16.84309165|1428513555|   0|\n",
      "| 16|000559602166|45.17589047|16.81072141|1428513555|   0|\n",
      "| 17|000FFD1F37D8|45.17461082|16.81284496|1428513555|   0|\n",
      "| 18|000C4223D3BF|45.17934993|16.82277136|1428513555|   0|\n",
      "| 19|000C42059D59|45.17618721|16.81837295|1428513555|   0|\n",
      "| 20|000C420C4B40|45.18137433|16.80990723|1428513555|   0|\n",
      "+---+------------+-----------+-----------+----------+----+\n",
      "only showing top 20 rows\n",
      "\n"
     ]
    }
   ],
   "metadata": {}
  },
  {
   "cell_type": "code",
   "execution_count": 18,
   "source": [
    "# Ahora uno los df_2017, df_2018 y df_2019\n",
    "df_2017_2018_2019 = ((df_2017.union(df_2018)).union(df_2019)).distinct()\n",
    "df_2017_2018_2019.show(truncate=False)"
   ],
   "outputs": [],
   "metadata": {}
  },
  {
   "cell_type": "code",
   "execution_count": null,
   "source": [
    "# Elimino las columnas innecesarias.\n",
    "df_2017_2018_2019 = df_2017_2018_2019.drop('updated', 'data')"
   ],
   "outputs": [],
   "metadata": {}
  },
  {
   "cell_type": "code",
   "execution_count": null,
   "source": [
    "df_all = df_2017_2018_2019\n",
    "\n",
    "# Ahora creo el df solo con la RM según coordenadas de google maps.\n",
    "df_stgo = df_all.filter((df_all.lat >= -33.65) &\n",
    "                        (df_all.lat <= -33.28) &\n",
    "                        (df_all.lon >= -70.81) &\n",
    "                        (df_all.lon <= -70.50))\n",
    "df_stgo.show(truncate=False)"
   ],
   "outputs": [
    {
     "output_type": "stream",
     "name": "stdout",
     "text": [
      "+-------+------------+------------+------------+\n",
      "|id     |bssid       |lat         |lon         |\n",
      "+-------+------------+------------+------------+\n",
      "|8849791|1CE6C7F010E6|-33.39275272|-70.57426126|\n",
      "|8849792|1CE6C7F010E5|-33.39250351|-70.57437245|\n",
      "|8850002|001EE53444A9|-33.39918647|-70.58116012|\n",
      "|8850139|64E95033D911|-33.39342478|-70.57411691|\n",
      "|8850625|FC94E30C3C64|-33.40811106|-70.58709986|\n",
      "|8851402|34DBFDBFF298|-33.39346036|-70.57409400|\n",
      "|8991482|001DCF203FD1|-33.40576570|-70.56381641|\n",
      "|8991542|2CAB2585EF3F|-33.40188118|-70.56105160|\n",
      "|8991749|004F621D5873|-33.39870261|-70.55496093|\n",
      "|8992564|40CBA8CCBD9D|-33.41227703|-70.57368460|\n",
      "|8992611|B4750E38BC6E|-33.40116664|-70.56038709|\n",
      "|8993378|14ABF0DD5A70|-33.42087583|-70.56632524|\n",
      "|8994248|70105C7CD8F0|-33.41674528|-70.57156504|\n",
      "|8994782|FC94E33EB2E5|-33.40310366|-70.56229882|\n",
      "|8994818|001DCE35D79D|-33.41167474|-70.57389409|\n",
      "|8994939|14ABF0DA0A00|-33.40700644|-70.56115041|\n",
      "|8995096|14ABF0DA3B20|-33.41186394|-70.57383565|\n",
      "|8995103|FC8B97CB0F90|-33.40899169|-70.56826289|\n",
      "|8995174|4C5E0C5CA487|-33.41007583|-70.57099371|\n",
      "|8995196|9C97267D662B|-33.42212823|-70.55432886|\n",
      "+-------+------------+------------+------------+\n",
      "only showing top 20 rows\n",
      "\n"
     ]
    }
   ],
   "metadata": {}
  },
  {
   "cell_type": "code",
   "execution_count": null,
   "source": [
    "# Credo el df final de Stgo.\n",
    "# Separo la columna bssid en una que contendrá Media_mac y otra que contendrá\n",
    "# Id_fabricante.\n",
    "df_stgo = df_stgo.withColumn(\"Id_fabricante\", expr(\"substring(bssid,1,length(bssid)-6)\")).withColumn(\n",
    "    \"Media_mac\", expr(\"substring(bssid,7,length(bssid)-6)\")).drop(\"bssid\")\n",
    "df_stgo.show()"
   ],
   "outputs": [
    {
     "output_type": "stream",
     "name": "stdout",
     "text": [
      "+-------+------------+------------+-------------+---------+\n",
      "|     id|         lat|         lon|Id_fabricante|Media_mac|\n",
      "+-------+------------+------------+-------------+---------+\n",
      "|8849791|-33.39275272|-70.57426126|       1CE6C7|   F010E6|\n",
      "|8849792|-33.39250351|-70.57437245|       1CE6C7|   F010E5|\n",
      "|8850002|-33.39918647|-70.58116012|       001EE5|   3444A9|\n",
      "|8850139|-33.39342478|-70.57411691|       64E950|   33D911|\n",
      "|8850625|-33.40811106|-70.58709986|       FC94E3|   0C3C64|\n",
      "|8851402|-33.39346036|-70.57409400|       34DBFD|   BFF298|\n",
      "|8991482|-33.40576570|-70.56381641|       001DCF|   203FD1|\n",
      "|8991542|-33.40188118|-70.56105160|       2CAB25|   85EF3F|\n",
      "|8991749|-33.39870261|-70.55496093|       004F62|   1D5873|\n",
      "|8992564|-33.41227703|-70.57368460|       40CBA8|   CCBD9D|\n",
      "|8992611|-33.40116664|-70.56038709|       B4750E|   38BC6E|\n",
      "|8993378|-33.42087583|-70.56632524|       14ABF0|   DD5A70|\n",
      "|8994248|-33.41674528|-70.57156504|       70105C|   7CD8F0|\n",
      "|8994782|-33.40310366|-70.56229882|       FC94E3|   3EB2E5|\n",
      "|8994818|-33.41167474|-70.57389409|       001DCE|   35D79D|\n",
      "|8994939|-33.40700644|-70.56115041|       14ABF0|   DA0A00|\n",
      "|8995096|-33.41186394|-70.57383565|       14ABF0|   DA3B20|\n",
      "|8995103|-33.40899169|-70.56826289|       FC8B97|   CB0F90|\n",
      "|8995174|-33.41007583|-70.57099371|       4C5E0C|   5CA487|\n",
      "|8995196|-33.42212823|-70.55432886|       9C9726|   7D662B|\n",
      "+-------+------------+------------+-------------+---------+\n",
      "only showing top 20 rows\n",
      "\n"
     ]
    }
   ],
   "metadata": {}
  },
  {
   "cell_type": "markdown",
   "source": [
    "# Archivo de texto"
   ],
   "metadata": {}
  },
  {
   "cell_type": "code",
   "execution_count": null,
   "source": [
    "# Ahora trabajo con el archivo de texto creando un diccionario\n",
    "result = dict()\n",
    "for lig in open('/home/rafa/Dropbox/Linux_MDS/BDAnalytics/sprint1/data/oui.txt'):\n",
    "    if 'base 16' in lig:\n",
    "        num, sep, txt = lig.strip().partition('(base 16)')\n",
    "        result[num.strip()] = txt.strip()"
   ],
   "outputs": [],
   "metadata": {}
  },
  {
   "cell_type": "code",
   "execution_count": null,
   "source": [
    "# Transformo el diccionario en csv para mejor manipulacion\n",
    "with open('/home/rafa/Dropbox/Linux_MDS/BDAnalytics/sprint1/oui.csv',\n",
    "          'w') as f:\n",
    "    w = csv.writer(f)\n",
    "    w.writerows(result.items())\n"
   ],
   "outputs": [],
   "metadata": {}
  },
  {
   "cell_type": "code",
   "execution_count": null,
   "source": [
    "# Creo el df\n",
    "df_oui = sqlContext.read.csv('/home/rafa/Dropbox/Linux_MDS/BDAnalytics/'\n",
    "                             'sprint1/oui.csv',\n",
    "                             header=False)"
   ],
   "outputs": [],
   "metadata": {}
  },
  {
   "cell_type": "code",
   "execution_count": null,
   "source": [
    "# Despliego el dataframe, es importante saber que los ultimos 6 dígitos del\n",
    "# bssid corresponden al Id indicado como _c0\n",
    "df_oui.show(truncate=False)"
   ],
   "outputs": [
    {
     "output_type": "stream",
     "name": "stdout",
     "text": [
      "+------+------------------------------------------------------------+\n",
      "|_c0   |_c1                                                         |\n",
      "+------+------------------------------------------------------------+\n",
      "|002272|American Micro-Fuel Device Corp.                            |\n",
      "|00D0EF|IGT                                                         |\n",
      "|086195|Rockwell Automation                                         |\n",
      "|F4BD9E|Cisco Systems, Inc                                          |\n",
      "|5885E9|Realme Chongqing MobileTelecommunications Corp Ltd          |\n",
      "|BC2392|BYD Precision Manufacture Company Ltd.                      |\n",
      "|405582|Nokia                                                       |\n",
      "|A4E31B|Nokia                                                       |\n",
      "|D89790|Commonwealth Scientific and Industrial Research Organisation|\n",
      "|883A30|Aruba, a Hewlett Packard Enterprise Company                 |\n",
      "|B8A58D|Axe Group Holdings Limited                                  |\n",
      "|50CEE3|Gigafirm.co.LTD                                             |\n",
      "|98E743|Dell Inc.                                                   |\n",
      "|C419D1|Telink Semiconductor (Shanghai) Co., Ltd.                   |\n",
      "|887E25|Extreme Networks, Inc.                                      |\n",
      "|086083|zte corporation                                             |\n",
      "|E01954|zte corporation                                             |\n",
      "|10327E|Huawei Device Co., Ltd.                                     |\n",
      "|F8084F|Sagemcom Broadband SAS                                      |\n",
      "|30FBB8|HUAWEI TECHNOLOGIES CO.,LTD                                 |\n",
      "+------+------------------------------------------------------------+\n",
      "only showing top 20 rows\n",
      "\n"
     ]
    }
   ],
   "metadata": {}
  },
  {
   "cell_type": "markdown",
   "source": [
    "# Shapefile"
   ],
   "metadata": {}
  },
  {
   "cell_type": "code",
   "execution_count": null,
   "source": [
    "# Este archivo contiene todo lo solictado, salvo la ciudad.\n",
    "Manzana_Precensal = gpd.read_file('/home/rafa/Dropbox/Linux_MDS/BDAnalytics/'\n",
    "                                  'sprint1/data/'\n",
    "                                  'Manzana_Precensal.shp')"
   ],
   "outputs": [],
   "metadata": {}
  },
  {
   "cell_type": "code",
   "execution_count": null,
   "source": [
    "# Elimino columnas innecesarias.\n",
    "# COD_ZON corresponde a Zona Censal.\n",
    "# COD_ENT corrresponde a Manzana Censal.\n",
    "# DES_COMU a la comuna.\n",
    "Manzana_Precensal = Manzana_Precensal.drop(['DES_REGI', 'MANZENT', 'COMUNA',\n",
    "                                            'PROVINCIA', 'DES_PROV', 'REGION',\n",
    "                                            'COD_DIS'],\n",
    "                                           axis=1)\n",
    "Manzana_Precensal"
   ],
   "outputs": [
    {
     "output_type": "execute_result",
     "data": {
      "text/plain": [
       "       COD_ZON  COD_ENT   DES_COMU  \\\n",
       "0            3        1  CERRILLOS   \n",
       "1            3        4  CERRILLOS   \n",
       "2            3        5  CERRILLOS   \n",
       "3            3        8  CERRILLOS   \n",
       "4            3        9  CERRILLOS   \n",
       "...        ...      ...        ...   \n",
       "53048        1      504   PEÑAFLOR   \n",
       "53049        1      503   PEÑAFLOR   \n",
       "53050        1      502   PEÑAFLOR   \n",
       "53051        1      505   PEÑAFLOR   \n",
       "53052        1      501   PEÑAFLOR   \n",
       "\n",
       "                                                geometry  \n",
       "0      POLYGON ((-70.72166 -33.47385, -70.72197 -33.4...  \n",
       "1      POLYGON ((-70.72136 -33.47420, -70.72160 -33.4...  \n",
       "2      POLYGON ((-70.72105 -33.47455, -70.72124 -33.4...  \n",
       "3      POLYGON ((-70.72079 -33.47509, -70.72089 -33.4...  \n",
       "4      POLYGON ((-70.72052 -33.47563, -70.72052 -33.4...  \n",
       "...                                                  ...  \n",
       "53048  POLYGON ((-70.87621 -33.61954, -70.87751 -33.6...  \n",
       "53049  POLYGON ((-70.87723 -33.61920, -70.87741 -33.6...  \n",
       "53050  POLYGON ((-70.87713 -33.61883, -70.87731 -33.6...  \n",
       "53051  POLYGON ((-70.87556 -33.61840, -70.87561 -33.6...  \n",
       "53052  POLYGON ((-70.87805 -33.62117, -70.87803 -33.6...  \n",
       "\n",
       "[53053 rows x 4 columns]"
      ],
      "text/html": [
       "<div>\n",
       "<style scoped>\n",
       "    .dataframe tbody tr th:only-of-type {\n",
       "        vertical-align: middle;\n",
       "    }\n",
       "\n",
       "    .dataframe tbody tr th {\n",
       "        vertical-align: top;\n",
       "    }\n",
       "\n",
       "    .dataframe thead th {\n",
       "        text-align: right;\n",
       "    }\n",
       "</style>\n",
       "<table border=\"1\" class=\"dataframe\">\n",
       "  <thead>\n",
       "    <tr style=\"text-align: right;\">\n",
       "      <th></th>\n",
       "      <th>COD_ZON</th>\n",
       "      <th>COD_ENT</th>\n",
       "      <th>DES_COMU</th>\n",
       "      <th>geometry</th>\n",
       "    </tr>\n",
       "  </thead>\n",
       "  <tbody>\n",
       "    <tr>\n",
       "      <th>0</th>\n",
       "      <td>3</td>\n",
       "      <td>1</td>\n",
       "      <td>CERRILLOS</td>\n",
       "      <td>POLYGON ((-70.72166 -33.47385, -70.72197 -33.4...</td>\n",
       "    </tr>\n",
       "    <tr>\n",
       "      <th>1</th>\n",
       "      <td>3</td>\n",
       "      <td>4</td>\n",
       "      <td>CERRILLOS</td>\n",
       "      <td>POLYGON ((-70.72136 -33.47420, -70.72160 -33.4...</td>\n",
       "    </tr>\n",
       "    <tr>\n",
       "      <th>2</th>\n",
       "      <td>3</td>\n",
       "      <td>5</td>\n",
       "      <td>CERRILLOS</td>\n",
       "      <td>POLYGON ((-70.72105 -33.47455, -70.72124 -33.4...</td>\n",
       "    </tr>\n",
       "    <tr>\n",
       "      <th>3</th>\n",
       "      <td>3</td>\n",
       "      <td>8</td>\n",
       "      <td>CERRILLOS</td>\n",
       "      <td>POLYGON ((-70.72079 -33.47509, -70.72089 -33.4...</td>\n",
       "    </tr>\n",
       "    <tr>\n",
       "      <th>4</th>\n",
       "      <td>3</td>\n",
       "      <td>9</td>\n",
       "      <td>CERRILLOS</td>\n",
       "      <td>POLYGON ((-70.72052 -33.47563, -70.72052 -33.4...</td>\n",
       "    </tr>\n",
       "    <tr>\n",
       "      <th>...</th>\n",
       "      <td>...</td>\n",
       "      <td>...</td>\n",
       "      <td>...</td>\n",
       "      <td>...</td>\n",
       "    </tr>\n",
       "    <tr>\n",
       "      <th>53048</th>\n",
       "      <td>1</td>\n",
       "      <td>504</td>\n",
       "      <td>PEÑAFLOR</td>\n",
       "      <td>POLYGON ((-70.87621 -33.61954, -70.87751 -33.6...</td>\n",
       "    </tr>\n",
       "    <tr>\n",
       "      <th>53049</th>\n",
       "      <td>1</td>\n",
       "      <td>503</td>\n",
       "      <td>PEÑAFLOR</td>\n",
       "      <td>POLYGON ((-70.87723 -33.61920, -70.87741 -33.6...</td>\n",
       "    </tr>\n",
       "    <tr>\n",
       "      <th>53050</th>\n",
       "      <td>1</td>\n",
       "      <td>502</td>\n",
       "      <td>PEÑAFLOR</td>\n",
       "      <td>POLYGON ((-70.87713 -33.61883, -70.87731 -33.6...</td>\n",
       "    </tr>\n",
       "    <tr>\n",
       "      <th>53051</th>\n",
       "      <td>1</td>\n",
       "      <td>505</td>\n",
       "      <td>PEÑAFLOR</td>\n",
       "      <td>POLYGON ((-70.87556 -33.61840, -70.87561 -33.6...</td>\n",
       "    </tr>\n",
       "    <tr>\n",
       "      <th>53052</th>\n",
       "      <td>1</td>\n",
       "      <td>501</td>\n",
       "      <td>PEÑAFLOR</td>\n",
       "      <td>POLYGON ((-70.87805 -33.62117, -70.87803 -33.6...</td>\n",
       "    </tr>\n",
       "  </tbody>\n",
       "</table>\n",
       "<p>53053 rows × 4 columns</p>\n",
       "</div>"
      ]
     },
     "metadata": {},
     "execution_count": 27
    }
   ],
   "metadata": {}
  },
  {
   "cell_type": "markdown",
   "source": [
    "# Construyendo los futures"
   ],
   "metadata": {}
  },
  {
   "cell_type": "markdown",
   "source": [
    "## Fabricante"
   ],
   "metadata": {}
  },
  {
   "cell_type": "code",
   "execution_count": null,
   "source": [
    "# Uno los df_stgo y df_oui a través de un join y además le solicito que lo haga\n",
    "# en donde Id_fabricante sea idéntico a _c0 del df_oui.\n",
    "df_stgo = df_stgo.join(df_oui).where(df_stgo[\"Id_fabricante\"] == df_oui[\"_c0\"])\n",
    "df_stgo = df_stgo.drop('_c0')\n",
    "df_stgo = df_stgo.withColumnRenamed('_c1', 'Fabricante')\n",
    "print('El dataframe con el primer future es el siguiente:\\n')\n",
    "df_stgo.show(truncate=False)"
   ],
   "outputs": [],
   "metadata": {}
  },
  {
   "cell_type": "code",
   "execution_count": null,
   "source": [
    "# Información geográfica (ciudad, comuna, zona censal, manzana)\n",
    "# Transformo df_stgo a pandas para poder trabajarlo con geopandas\n",
    "df_stgo_pandas = df_stgo.toPandas()\n",
    "\n",
    "# Ahora creo un geopandas para indicarle los points de lat y lon.\n",
    "df_stgo_geop = gpd.GeoDataFrame(df_stgo_pandas,\n",
    "                                geometry=gpd.points_from_xy\n",
    "                                (df_stgo_pandas.lon, df_stgo_pandas.lat))"
   ],
   "outputs": [],
   "metadata": {}
  },
  {
   "cell_type": "code",
   "execution_count": null,
   "source": [
    "df_stgo_geop = df_stgo_geop.drop(columns=['lat', 'lon'])\n",
    "\n",
    "# Le indico el CRS para que quede igual a Manzana_Precensal.\n",
    "df_stgo_geop.crs = 'EPSG:4674'"
   ],
   "outputs": [],
   "metadata": {}
  },
  {
   "cell_type": "code",
   "execution_count": null,
   "source": [
    "# Ahora hago un join con geopandas entre df_stgo_geop y Manzana_Precensal.\n",
    "join_stgo_manzana = gpd.sjoin(df_stgo_geop, Manzana_Precensal, op='within', \n",
    "                              how='inner')"
   ],
   "outputs": [],
   "metadata": {}
  },
  {
   "cell_type": "code",
   "execution_count": null,
   "source": [
    "# Ahora hago un join con geopandas entre df_stgo_geop y Manzana_Precensal.\n",
    "join_stgo_manzana = gpd.sjoin(df_stgo_geop, Manzana_Precensal, op='within', \n",
    "                              how='inner')\n",
    "\n",
    "join_stgo_manzana = join_stgo_manzana.drop(columns=['index_right'])\n",
    "join_stgo_manzana['str_geom'] = join_stgo_manzana.geometry.apply(lambda x: wkt.dumps(x))\n",
    "join_stgo_manzana = (join_stgo_manzana.drop(columns=['geometry'])\n",
    "                     ).rename(columns={'str_geom': 'geometry',\n",
    "                                       'COD_ZON': 'Zona_Censal',\n",
    "                                       'COD_ENT': 'Manzana_Censal',\n",
    "                                       'DES_COMU': 'Comuna'})\n",
    "# join_stgo_manzana.rename(columns={'str_geom': 'geometry'})\n",
    "\n",
    "# Ahora lo vuelvo a pasar a pyspark.\n",
    "fab_info_geo = sqlContext.createDataFrame(join_stgo_manzana)\n",
    "\n",
    "fab_info_geo.show(truncate=False)"
   ],
   "outputs": [],
   "metadata": {}
  }
 ],
 "metadata": {
  "interpreter": {
   "hash": "9f846f910e1fc2a82d5e4cecddffaf88e662d9c3b4dec9928cadb2d66ae08e55"
  },
  "kernelspec": {
   "display_name": "Python 3.6.13 64-bit ('pyspark3': conda)",
   "name": "python3"
  },
  "language_info": {
   "codemirror_mode": {
    "name": "ipython",
    "version": 3
   },
   "file_extension": ".py",
   "mimetype": "text/x-python",
   "name": "python",
   "nbconvert_exporter": "python",
   "pygments_lexer": "ipython3",
   "version": "3.6.13"
  },
  "orig_nbformat": 4
 },
 "nbformat": 4,
 "nbformat_minor": 2
}