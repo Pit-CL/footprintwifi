{
 "cells": [
  {
   "cell_type": "markdown",
   "source": [
    "# Importando las librerías."
   ],
   "metadata": {}
  },
  {
   "cell_type": "code",
   "execution_count": 1,
   "source": [
    "import findspark\n",
    "from pyspark import SparkContext, SparkConf, SQLContext\n",
    "import csv\n",
    "import geopandas as gpd\n",
    "from pyspark.sql.functions import substring, expr\n",
    "import pandas as pd\n",
    "findspark.init()  # Con este no me tira error de JVM."
   ],
   "outputs": [],
   "metadata": {}
  },
  {
   "cell_type": "markdown",
   "source": [
    "# Abriendo los archivos."
   ],
   "metadata": {}
  },
  {
   "cell_type": "code",
   "execution_count": 2,
   "source": [
    "# Se setea el Master y se le da nombre a la aplicacion.\n",
    "conf = SparkConf().setMaster('local').setAppName('Tarea Analisis de BigData')"
   ],
   "outputs": [],
   "metadata": {}
  },
  {
   "cell_type": "code",
   "execution_count": 3,
   "source": [
    "# Se inicia el cluster Spark.\n",
    "sc = SparkContext.getOrCreate(conf=conf)"
   ],
   "outputs": [],
   "metadata": {}
  },
  {
   "cell_type": "code",
   "execution_count": 4,
   "source": [
    "# Se inicia SQLContext desde el cluster de Spark.\n",
    "sqlContext = SQLContext(sc)"
   ],
   "outputs": [],
   "metadata": {}
  },
  {
   "cell_type": "code",
   "execution_count": 5,
   "source": [
    "# Carpeta donde estan guardados los archivos\n",
    "FilePath = '/home/rafa/Dropbox/Linux_MDS/BDAnalytics/sprint1/data'"
   ],
   "outputs": [],
   "metadata": {}
  },
  {
   "cell_type": "code",
   "execution_count": 6,
   "source": [
    "# Nombres de los archivo.\n",
    "FileName1 = 'wifi_2017.csv'\n",
    "FileName2 = 'wifi_2018.csv'\n",
    "FileName3 = 'wifi_2019.csv'"
   ],
   "outputs": [],
   "metadata": {}
  },
  {
   "cell_type": "code",
   "execution_count": 7,
   "source": [
    "# Combinando\n",
    "FullPath1 = FilePath + '/' + FileName1\n",
    "FullPath2 = FilePath + '/' + FileName2\n",
    "FullPath3 = FilePath + '/' + FileName3\n"
   ],
   "outputs": [],
   "metadata": {}
  },
  {
   "cell_type": "code",
   "execution_count": 34,
   "source": [
    "# Dataframes\n",
    "df_2017 = sqlContext.read.csv(FullPath1, header=True)\n",
    "df_2018 = sqlContext.read.csv(FullPath2, header=True)\n",
    "df_2019 = sqlContext.read.csv(FullPath3, header=True)"
   ],
   "outputs": [
    {
     "output_type": "error",
     "ename": "Py4JJavaError",
     "evalue": "An error occurred while calling o98.collectToPython.\n: org.apache.spark.SparkException: Job aborted due to stage failure: Task 12 in stage 23.0 failed 1 times, most recent failure: Lost task 12.0 in stage 23.0 (TID 47, 172.20.235.148, executor driver): java.lang.OutOfMemoryError: Java heap space\n\tat java.util.Arrays.copyOf(Arrays.java:3236)\n\tat java.io.ByteArrayOutputStream.grow(ByteArrayOutputStream.java:118)\n\tat java.io.ByteArrayOutputStream.ensureCapacity(ByteArrayOutputStream.java:93)\n\tat java.io.ByteArrayOutputStream.write(ByteArrayOutputStream.java:153)\n\tat org.apache.spark.util.ByteBufferOutputStream.write(ByteBufferOutputStream.scala:41)\n\tat java.io.ObjectOutputStream$BlockDataOutputStream.write(ObjectOutputStream.java:1853)\n\tat java.io.ObjectOutputStream.write(ObjectOutputStream.java:709)\n\tat org.apache.spark.util.Utils$.writeByteBuffer(Utils.scala:232)\n\tat org.apache.spark.scheduler.DirectTaskResult.$anonfun$writeExternal$1(TaskResult.scala:53)\n\tat org.apache.spark.scheduler.DirectTaskResult$$Lambda$2128/1206044447.apply$mcV$sp(Unknown Source)\n\tat scala.runtime.java8.JFunction0$mcV$sp.apply(JFunction0$mcV$sp.java:23)\n\tat org.apache.spark.util.Utils$.tryOrIOException(Utils.scala:1343)\n\tat org.apache.spark.scheduler.DirectTaskResult.writeExternal(TaskResult.scala:51)\n\tat java.io.ObjectOutputStream.writeExternalData(ObjectOutputStream.java:1459)\n\tat java.io.ObjectOutputStream.writeOrdinaryObject(ObjectOutputStream.java:1430)\n\tat java.io.ObjectOutputStream.writeObject0(ObjectOutputStream.java:1178)\n\tat java.io.ObjectOutputStream.writeObject(ObjectOutputStream.java:348)\n\tat org.apache.spark.serializer.JavaSerializationStream.writeObject(JavaSerializer.scala:44)\n\tat org.apache.spark.serializer.JavaSerializerInstance.serialize(JavaSerializer.scala:101)\n\tat org.apache.spark.executor.Executor$TaskRunner.run(Executor.scala:572)\n\tat java.util.concurrent.ThreadPoolExecutor.runWorker(ThreadPoolExecutor.java:1149)\n\tat java.util.concurrent.ThreadPoolExecutor$Worker.run(ThreadPoolExecutor.java:624)\n\tat java.lang.Thread.run(Thread.java:748)\n\nDriver stacktrace:\n\tat org.apache.spark.scheduler.DAGScheduler.failJobAndIndependentStages(DAGScheduler.scala:2059)\n\tat org.apache.spark.scheduler.DAGScheduler.$anonfun$abortStage$2(DAGScheduler.scala:2008)\n\tat org.apache.spark.scheduler.DAGScheduler.$anonfun$abortStage$2$adapted(DAGScheduler.scala:2007)\n\tat scala.collection.mutable.ResizableArray.foreach(ResizableArray.scala:62)\n\tat scala.collection.mutable.ResizableArray.foreach$(ResizableArray.scala:55)\n\tat scala.collection.mutable.ArrayBuffer.foreach(ArrayBuffer.scala:49)\n\tat org.apache.spark.scheduler.DAGScheduler.abortStage(DAGScheduler.scala:2007)\n\tat org.apache.spark.scheduler.DAGScheduler.$anonfun$handleTaskSetFailed$1(DAGScheduler.scala:973)\n\tat org.apache.spark.scheduler.DAGScheduler.$anonfun$handleTaskSetFailed$1$adapted(DAGScheduler.scala:973)\n\tat scala.Option.foreach(Option.scala:407)\n\tat org.apache.spark.scheduler.DAGScheduler.handleTaskSetFailed(DAGScheduler.scala:973)\n\tat org.apache.spark.scheduler.DAGSchedulerEventProcessLoop.doOnReceive(DAGScheduler.scala:2239)\n\tat org.apache.spark.scheduler.DAGSchedulerEventProcessLoop.onReceive(DAGScheduler.scala:2188)\n\tat org.apache.spark.scheduler.DAGSchedulerEventProcessLoop.onReceive(DAGScheduler.scala:2177)\n\tat org.apache.spark.util.EventLoop$$anon$1.run(EventLoop.scala:49)\n\tat org.apache.spark.scheduler.DAGScheduler.runJob(DAGScheduler.scala:775)\n\tat org.apache.spark.SparkContext.runJob(SparkContext.scala:2114)\n\tat org.apache.spark.SparkContext.runJob(SparkContext.scala:2135)\n\tat org.apache.spark.SparkContext.runJob(SparkContext.scala:2154)\n\tat org.apache.spark.SparkContext.runJob(SparkContext.scala:2179)\n\tat org.apache.spark.rdd.RDD.$anonfun$collect$1(RDD.scala:1004)\n\tat org.apache.spark.rdd.RDDOperationScope$.withScope(RDDOperationScope.scala:151)\n\tat org.apache.spark.rdd.RDDOperationScope$.withScope(RDDOperationScope.scala:112)\n\tat org.apache.spark.rdd.RDD.withScope(RDD.scala:388)\n\tat org.apache.spark.rdd.RDD.collect(RDD.scala:1003)\n\tat org.apache.spark.sql.execution.SparkPlan.executeCollect(SparkPlan.scala:390)\n\tat org.apache.spark.sql.Dataset.$anonfun$collectToPython$1(Dataset.scala:3450)\n\tat org.apache.spark.sql.Dataset.$anonfun$withAction$1(Dataset.scala:3618)\n\tat org.apache.spark.sql.execution.SQLExecution$.$anonfun$withNewExecutionId$5(SQLExecution.scala:100)\n\tat org.apache.spark.sql.execution.SQLExecution$.withSQLConfPropagated(SQLExecution.scala:160)\n\tat org.apache.spark.sql.execution.SQLExecution$.$anonfun$withNewExecutionId$1(SQLExecution.scala:87)\n\tat org.apache.spark.sql.SparkSession.withActive(SparkSession.scala:767)\n\tat org.apache.spark.sql.execution.SQLExecution$.withNewExecutionId(SQLExecution.scala:64)\n\tat org.apache.spark.sql.Dataset.withAction(Dataset.scala:3616)\n\tat org.apache.spark.sql.Dataset.collectToPython(Dataset.scala:3447)\n\tat sun.reflect.NativeMethodAccessorImpl.invoke0(Native Method)\n\tat sun.reflect.NativeMethodAccessorImpl.invoke(NativeMethodAccessorImpl.java:62)\n\tat sun.reflect.DelegatingMethodAccessorImpl.invoke(DelegatingMethodAccessorImpl.java:43)\n\tat java.lang.reflect.Method.invoke(Method.java:498)\n\tat py4j.reflection.MethodInvoker.invoke(MethodInvoker.java:244)\n\tat py4j.reflection.ReflectionEngine.invoke(ReflectionEngine.java:357)\n\tat py4j.Gateway.invoke(Gateway.java:282)\n\tat py4j.commands.AbstractCommand.invokeMethod(AbstractCommand.java:132)\n\tat py4j.commands.CallCommand.execute(CallCommand.java:79)\n\tat py4j.GatewayConnection.run(GatewayConnection.java:238)\n\tat java.lang.Thread.run(Thread.java:748)\nCaused by: java.lang.OutOfMemoryError: Java heap space\n\tat java.util.Arrays.copyOf(Arrays.java:3236)\n\tat java.io.ByteArrayOutputStream.grow(ByteArrayOutputStream.java:118)\n\tat java.io.ByteArrayOutputStream.ensureCapacity(ByteArrayOutputStream.java:93)\n\tat java.io.ByteArrayOutputStream.write(ByteArrayOutputStream.java:153)\n\tat org.apache.spark.util.ByteBufferOutputStream.write(ByteBufferOutputStream.scala:41)\n\tat java.io.ObjectOutputStream$BlockDataOutputStream.write(ObjectOutputStream.java:1853)\n\tat java.io.ObjectOutputStream.write(ObjectOutputStream.java:709)\n\tat org.apache.spark.util.Utils$.writeByteBuffer(Utils.scala:232)\n\tat org.apache.spark.scheduler.DirectTaskResult.$anonfun$writeExternal$1(TaskResult.scala:53)\n\tat org.apache.spark.scheduler.DirectTaskResult$$Lambda$2128/1206044447.apply$mcV$sp(Unknown Source)\n\tat scala.runtime.java8.JFunction0$mcV$sp.apply(JFunction0$mcV$sp.java:23)\n\tat org.apache.spark.util.Utils$.tryOrIOException(Utils.scala:1343)\n\tat org.apache.spark.scheduler.DirectTaskResult.writeExternal(TaskResult.scala:51)\n\tat java.io.ObjectOutputStream.writeExternalData(ObjectOutputStream.java:1459)\n\tat java.io.ObjectOutputStream.writeOrdinaryObject(ObjectOutputStream.java:1430)\n\tat java.io.ObjectOutputStream.writeObject0(ObjectOutputStream.java:1178)\n\tat java.io.ObjectOutputStream.writeObject(ObjectOutputStream.java:348)\n\tat org.apache.spark.serializer.JavaSerializationStream.writeObject(JavaSerializer.scala:44)\n\tat org.apache.spark.serializer.JavaSerializerInstance.serialize(JavaSerializer.scala:101)\n\tat org.apache.spark.executor.Executor$TaskRunner.run(Executor.scala:572)\n\tat java.util.concurrent.ThreadPoolExecutor.runWorker(ThreadPoolExecutor.java:1149)\n\tat java.util.concurrent.ThreadPoolExecutor$Worker.run(ThreadPoolExecutor.java:624)\n\t... 1 more\n",
     "traceback": [
      "\u001b[0;31m---------------------------------------------------------------------------\u001b[0m",
      "\u001b[0;31mPy4JJavaError\u001b[0m                             Traceback (most recent call last)",
      "\u001b[0;32m<ipython-input-34-01f79a9886c9>\u001b[0m in \u001b[0;36m<module>\u001b[0;34m\u001b[0m\n\u001b[1;32m      1\u001b[0m \u001b[0;31m# Dataframes\u001b[0m\u001b[0;34m\u001b[0m\u001b[0;34m\u001b[0m\u001b[0;34m\u001b[0m\u001b[0m\n\u001b[0;32m----> 2\u001b[0;31m \u001b[0mdf_2017\u001b[0m \u001b[0;34m=\u001b[0m \u001b[0msqlContext\u001b[0m\u001b[0;34m.\u001b[0m\u001b[0mread\u001b[0m\u001b[0;34m.\u001b[0m\u001b[0mcsv\u001b[0m\u001b[0;34m(\u001b[0m\u001b[0mFullPath1\u001b[0m\u001b[0;34m,\u001b[0m \u001b[0mheader\u001b[0m\u001b[0;34m=\u001b[0m\u001b[0;32mTrue\u001b[0m\u001b[0;34m)\u001b[0m\u001b[0;34m.\u001b[0m\u001b[0mcollect\u001b[0m\u001b[0;34m(\u001b[0m\u001b[0;34m)\u001b[0m\u001b[0;34m\u001b[0m\u001b[0;34m\u001b[0m\u001b[0m\n\u001b[0m\u001b[1;32m      3\u001b[0m \u001b[0mdf_2018\u001b[0m \u001b[0;34m=\u001b[0m \u001b[0msqlContext\u001b[0m\u001b[0;34m.\u001b[0m\u001b[0mread\u001b[0m\u001b[0;34m.\u001b[0m\u001b[0mcsv\u001b[0m\u001b[0;34m(\u001b[0m\u001b[0mFullPath2\u001b[0m\u001b[0;34m,\u001b[0m \u001b[0mheader\u001b[0m\u001b[0;34m=\u001b[0m\u001b[0;32mTrue\u001b[0m\u001b[0;34m)\u001b[0m\u001b[0;34m.\u001b[0m\u001b[0mcollect\u001b[0m\u001b[0;34m(\u001b[0m\u001b[0;34m)\u001b[0m\u001b[0;34m\u001b[0m\u001b[0;34m\u001b[0m\u001b[0m\n\u001b[1;32m      4\u001b[0m \u001b[0mdf_2019\u001b[0m \u001b[0;34m=\u001b[0m \u001b[0msqlContext\u001b[0m\u001b[0;34m.\u001b[0m\u001b[0mread\u001b[0m\u001b[0;34m.\u001b[0m\u001b[0mcsv\u001b[0m\u001b[0;34m(\u001b[0m\u001b[0mFullPath3\u001b[0m\u001b[0;34m,\u001b[0m \u001b[0mheader\u001b[0m\u001b[0;34m=\u001b[0m\u001b[0;32mTrue\u001b[0m\u001b[0;34m)\u001b[0m\u001b[0;34m.\u001b[0m\u001b[0mcollect\u001b[0m\u001b[0;34m(\u001b[0m\u001b[0;34m)\u001b[0m\u001b[0;34m\u001b[0m\u001b[0;34m\u001b[0m\u001b[0m\n",
      "\u001b[0;32m~/miniconda3/envs/pyspark3/lib/python3.6/site-packages/pyspark/sql/dataframe.py\u001b[0m in \u001b[0;36mcollect\u001b[0;34m(self)\u001b[0m\n\u001b[1;32m    594\u001b[0m         \"\"\"\n\u001b[1;32m    595\u001b[0m         \u001b[0;32mwith\u001b[0m \u001b[0mSCCallSiteSync\u001b[0m\u001b[0;34m(\u001b[0m\u001b[0mself\u001b[0m\u001b[0;34m.\u001b[0m\u001b[0m_sc\u001b[0m\u001b[0;34m)\u001b[0m \u001b[0;32mas\u001b[0m \u001b[0mcss\u001b[0m\u001b[0;34m:\u001b[0m\u001b[0;34m\u001b[0m\u001b[0;34m\u001b[0m\u001b[0m\n\u001b[0;32m--> 596\u001b[0;31m             \u001b[0msock_info\u001b[0m \u001b[0;34m=\u001b[0m \u001b[0mself\u001b[0m\u001b[0;34m.\u001b[0m\u001b[0m_jdf\u001b[0m\u001b[0;34m.\u001b[0m\u001b[0mcollectToPython\u001b[0m\u001b[0;34m(\u001b[0m\u001b[0;34m)\u001b[0m\u001b[0;34m\u001b[0m\u001b[0;34m\u001b[0m\u001b[0m\n\u001b[0m\u001b[1;32m    597\u001b[0m         \u001b[0;32mreturn\u001b[0m \u001b[0mlist\u001b[0m\u001b[0;34m(\u001b[0m\u001b[0m_load_from_socket\u001b[0m\u001b[0;34m(\u001b[0m\u001b[0msock_info\u001b[0m\u001b[0;34m,\u001b[0m \u001b[0mBatchedSerializer\u001b[0m\u001b[0;34m(\u001b[0m\u001b[0mPickleSerializer\u001b[0m\u001b[0;34m(\u001b[0m\u001b[0;34m)\u001b[0m\u001b[0;34m)\u001b[0m\u001b[0;34m)\u001b[0m\u001b[0;34m)\u001b[0m\u001b[0;34m\u001b[0m\u001b[0;34m\u001b[0m\u001b[0m\n\u001b[1;32m    598\u001b[0m \u001b[0;34m\u001b[0m\u001b[0m\n",
      "\u001b[0;32m~/miniconda3/envs/pyspark3/lib/python3.6/site-packages/py4j/java_gateway.py\u001b[0m in \u001b[0;36m__call__\u001b[0;34m(self, *args)\u001b[0m\n\u001b[1;32m   1303\u001b[0m         \u001b[0manswer\u001b[0m \u001b[0;34m=\u001b[0m \u001b[0mself\u001b[0m\u001b[0;34m.\u001b[0m\u001b[0mgateway_client\u001b[0m\u001b[0;34m.\u001b[0m\u001b[0msend_command\u001b[0m\u001b[0;34m(\u001b[0m\u001b[0mcommand\u001b[0m\u001b[0;34m)\u001b[0m\u001b[0;34m\u001b[0m\u001b[0;34m\u001b[0m\u001b[0m\n\u001b[1;32m   1304\u001b[0m         return_value = get_return_value(\n\u001b[0;32m-> 1305\u001b[0;31m             answer, self.gateway_client, self.target_id, self.name)\n\u001b[0m\u001b[1;32m   1306\u001b[0m \u001b[0;34m\u001b[0m\u001b[0m\n\u001b[1;32m   1307\u001b[0m         \u001b[0;32mfor\u001b[0m \u001b[0mtemp_arg\u001b[0m \u001b[0;32min\u001b[0m \u001b[0mtemp_args\u001b[0m\u001b[0;34m:\u001b[0m\u001b[0;34m\u001b[0m\u001b[0;34m\u001b[0m\u001b[0m\n",
      "\u001b[0;32m~/miniconda3/envs/pyspark3/lib/python3.6/site-packages/pyspark/sql/utils.py\u001b[0m in \u001b[0;36mdeco\u001b[0;34m(*a, **kw)\u001b[0m\n\u001b[1;32m    126\u001b[0m     \u001b[0;32mdef\u001b[0m \u001b[0mdeco\u001b[0m\u001b[0;34m(\u001b[0m\u001b[0;34m*\u001b[0m\u001b[0ma\u001b[0m\u001b[0;34m,\u001b[0m \u001b[0;34m**\u001b[0m\u001b[0mkw\u001b[0m\u001b[0;34m)\u001b[0m\u001b[0;34m:\u001b[0m\u001b[0;34m\u001b[0m\u001b[0;34m\u001b[0m\u001b[0m\n\u001b[1;32m    127\u001b[0m         \u001b[0;32mtry\u001b[0m\u001b[0;34m:\u001b[0m\u001b[0;34m\u001b[0m\u001b[0;34m\u001b[0m\u001b[0m\n\u001b[0;32m--> 128\u001b[0;31m             \u001b[0;32mreturn\u001b[0m \u001b[0mf\u001b[0m\u001b[0;34m(\u001b[0m\u001b[0;34m*\u001b[0m\u001b[0ma\u001b[0m\u001b[0;34m,\u001b[0m \u001b[0;34m**\u001b[0m\u001b[0mkw\u001b[0m\u001b[0;34m)\u001b[0m\u001b[0;34m\u001b[0m\u001b[0;34m\u001b[0m\u001b[0m\n\u001b[0m\u001b[1;32m    129\u001b[0m         \u001b[0;32mexcept\u001b[0m \u001b[0mpy4j\u001b[0m\u001b[0;34m.\u001b[0m\u001b[0mprotocol\u001b[0m\u001b[0;34m.\u001b[0m\u001b[0mPy4JJavaError\u001b[0m \u001b[0;32mas\u001b[0m \u001b[0me\u001b[0m\u001b[0;34m:\u001b[0m\u001b[0;34m\u001b[0m\u001b[0;34m\u001b[0m\u001b[0m\n\u001b[1;32m    130\u001b[0m             \u001b[0mconverted\u001b[0m \u001b[0;34m=\u001b[0m \u001b[0mconvert_exception\u001b[0m\u001b[0;34m(\u001b[0m\u001b[0me\u001b[0m\u001b[0;34m.\u001b[0m\u001b[0mjava_exception\u001b[0m\u001b[0;34m)\u001b[0m\u001b[0;34m\u001b[0m\u001b[0;34m\u001b[0m\u001b[0m\n",
      "\u001b[0;32m~/miniconda3/envs/pyspark3/lib/python3.6/site-packages/py4j/protocol.py\u001b[0m in \u001b[0;36mget_return_value\u001b[0;34m(answer, gateway_client, target_id, name)\u001b[0m\n\u001b[1;32m    326\u001b[0m                 raise Py4JJavaError(\n\u001b[1;32m    327\u001b[0m                     \u001b[0;34m\"An error occurred while calling {0}{1}{2}.\\n\"\u001b[0m\u001b[0;34m.\u001b[0m\u001b[0;34m\u001b[0m\u001b[0;34m\u001b[0m\u001b[0m\n\u001b[0;32m--> 328\u001b[0;31m                     format(target_id, \".\", name), value)\n\u001b[0m\u001b[1;32m    329\u001b[0m             \u001b[0;32melse\u001b[0m\u001b[0;34m:\u001b[0m\u001b[0;34m\u001b[0m\u001b[0;34m\u001b[0m\u001b[0m\n\u001b[1;32m    330\u001b[0m                 raise Py4JError(\n",
      "\u001b[0;31mPy4JJavaError\u001b[0m: An error occurred while calling o98.collectToPython.\n: org.apache.spark.SparkException: Job aborted due to stage failure: Task 12 in stage 23.0 failed 1 times, most recent failure: Lost task 12.0 in stage 23.0 (TID 47, 172.20.235.148, executor driver): java.lang.OutOfMemoryError: Java heap space\n\tat java.util.Arrays.copyOf(Arrays.java:3236)\n\tat java.io.ByteArrayOutputStream.grow(ByteArrayOutputStream.java:118)\n\tat java.io.ByteArrayOutputStream.ensureCapacity(ByteArrayOutputStream.java:93)\n\tat java.io.ByteArrayOutputStream.write(ByteArrayOutputStream.java:153)\n\tat org.apache.spark.util.ByteBufferOutputStream.write(ByteBufferOutputStream.scala:41)\n\tat java.io.ObjectOutputStream$BlockDataOutputStream.write(ObjectOutputStream.java:1853)\n\tat java.io.ObjectOutputStream.write(ObjectOutputStream.java:709)\n\tat org.apache.spark.util.Utils$.writeByteBuffer(Utils.scala:232)\n\tat org.apache.spark.scheduler.DirectTaskResult.$anonfun$writeExternal$1(TaskResult.scala:53)\n\tat org.apache.spark.scheduler.DirectTaskResult$$Lambda$2128/1206044447.apply$mcV$sp(Unknown Source)\n\tat scala.runtime.java8.JFunction0$mcV$sp.apply(JFunction0$mcV$sp.java:23)\n\tat org.apache.spark.util.Utils$.tryOrIOException(Utils.scala:1343)\n\tat org.apache.spark.scheduler.DirectTaskResult.writeExternal(TaskResult.scala:51)\n\tat java.io.ObjectOutputStream.writeExternalData(ObjectOutputStream.java:1459)\n\tat java.io.ObjectOutputStream.writeOrdinaryObject(ObjectOutputStream.java:1430)\n\tat java.io.ObjectOutputStream.writeObject0(ObjectOutputStream.java:1178)\n\tat java.io.ObjectOutputStream.writeObject(ObjectOutputStream.java:348)\n\tat org.apache.spark.serializer.JavaSerializationStream.writeObject(JavaSerializer.scala:44)\n\tat org.apache.spark.serializer.JavaSerializerInstance.serialize(JavaSerializer.scala:101)\n\tat org.apache.spark.executor.Executor$TaskRunner.run(Executor.scala:572)\n\tat java.util.concurrent.ThreadPoolExecutor.runWorker(ThreadPoolExecutor.java:1149)\n\tat java.util.concurrent.ThreadPoolExecutor$Worker.run(ThreadPoolExecutor.java:624)\n\tat java.lang.Thread.run(Thread.java:748)\n\nDriver stacktrace:\n\tat org.apache.spark.scheduler.DAGScheduler.failJobAndIndependentStages(DAGScheduler.scala:2059)\n\tat org.apache.spark.scheduler.DAGScheduler.$anonfun$abortStage$2(DAGScheduler.scala:2008)\n\tat org.apache.spark.scheduler.DAGScheduler.$anonfun$abortStage$2$adapted(DAGScheduler.scala:2007)\n\tat scala.collection.mutable.ResizableArray.foreach(ResizableArray.scala:62)\n\tat scala.collection.mutable.ResizableArray.foreach$(ResizableArray.scala:55)\n\tat scala.collection.mutable.ArrayBuffer.foreach(ArrayBuffer.scala:49)\n\tat org.apache.spark.scheduler.DAGScheduler.abortStage(DAGScheduler.scala:2007)\n\tat org.apache.spark.scheduler.DAGScheduler.$anonfun$handleTaskSetFailed$1(DAGScheduler.scala:973)\n\tat org.apache.spark.scheduler.DAGScheduler.$anonfun$handleTaskSetFailed$1$adapted(DAGScheduler.scala:973)\n\tat scala.Option.foreach(Option.scala:407)\n\tat org.apache.spark.scheduler.DAGScheduler.handleTaskSetFailed(DAGScheduler.scala:973)\n\tat org.apache.spark.scheduler.DAGSchedulerEventProcessLoop.doOnReceive(DAGScheduler.scala:2239)\n\tat org.apache.spark.scheduler.DAGSchedulerEventProcessLoop.onReceive(DAGScheduler.scala:2188)\n\tat org.apache.spark.scheduler.DAGSchedulerEventProcessLoop.onReceive(DAGScheduler.scala:2177)\n\tat org.apache.spark.util.EventLoop$$anon$1.run(EventLoop.scala:49)\n\tat org.apache.spark.scheduler.DAGScheduler.runJob(DAGScheduler.scala:775)\n\tat org.apache.spark.SparkContext.runJob(SparkContext.scala:2114)\n\tat org.apache.spark.SparkContext.runJob(SparkContext.scala:2135)\n\tat org.apache.spark.SparkContext.runJob(SparkContext.scala:2154)\n\tat org.apache.spark.SparkContext.runJob(SparkContext.scala:2179)\n\tat org.apache.spark.rdd.RDD.$anonfun$collect$1(RDD.scala:1004)\n\tat org.apache.spark.rdd.RDDOperationScope$.withScope(RDDOperationScope.scala:151)\n\tat org.apache.spark.rdd.RDDOperationScope$.withScope(RDDOperationScope.scala:112)\n\tat org.apache.spark.rdd.RDD.withScope(RDD.scala:388)\n\tat org.apache.spark.rdd.RDD.collect(RDD.scala:1003)\n\tat org.apache.spark.sql.execution.SparkPlan.executeCollect(SparkPlan.scala:390)\n\tat org.apache.spark.sql.Dataset.$anonfun$collectToPython$1(Dataset.scala:3450)\n\tat org.apache.spark.sql.Dataset.$anonfun$withAction$1(Dataset.scala:3618)\n\tat org.apache.spark.sql.execution.SQLExecution$.$anonfun$withNewExecutionId$5(SQLExecution.scala:100)\n\tat org.apache.spark.sql.execution.SQLExecution$.withSQLConfPropagated(SQLExecution.scala:160)\n\tat org.apache.spark.sql.execution.SQLExecution$.$anonfun$withNewExecutionId$1(SQLExecution.scala:87)\n\tat org.apache.spark.sql.SparkSession.withActive(SparkSession.scala:767)\n\tat org.apache.spark.sql.execution.SQLExecution$.withNewExecutionId(SQLExecution.scala:64)\n\tat org.apache.spark.sql.Dataset.withAction(Dataset.scala:3616)\n\tat org.apache.spark.sql.Dataset.collectToPython(Dataset.scala:3447)\n\tat sun.reflect.NativeMethodAccessorImpl.invoke0(Native Method)\n\tat sun.reflect.NativeMethodAccessorImpl.invoke(NativeMethodAccessorImpl.java:62)\n\tat sun.reflect.DelegatingMethodAccessorImpl.invoke(DelegatingMethodAccessorImpl.java:43)\n\tat java.lang.reflect.Method.invoke(Method.java:498)\n\tat py4j.reflection.MethodInvoker.invoke(MethodInvoker.java:244)\n\tat py4j.reflection.ReflectionEngine.invoke(ReflectionEngine.java:357)\n\tat py4j.Gateway.invoke(Gateway.java:282)\n\tat py4j.commands.AbstractCommand.invokeMethod(AbstractCommand.java:132)\n\tat py4j.commands.CallCommand.execute(CallCommand.java:79)\n\tat py4j.GatewayConnection.run(GatewayConnection.java:238)\n\tat java.lang.Thread.run(Thread.java:748)\nCaused by: java.lang.OutOfMemoryError: Java heap space\n\tat java.util.Arrays.copyOf(Arrays.java:3236)\n\tat java.io.ByteArrayOutputStream.grow(ByteArrayOutputStream.java:118)\n\tat java.io.ByteArrayOutputStream.ensureCapacity(ByteArrayOutputStream.java:93)\n\tat java.io.ByteArrayOutputStream.write(ByteArrayOutputStream.java:153)\n\tat org.apache.spark.util.ByteBufferOutputStream.write(ByteBufferOutputStream.scala:41)\n\tat java.io.ObjectOutputStream$BlockDataOutputStream.write(ObjectOutputStream.java:1853)\n\tat java.io.ObjectOutputStream.write(ObjectOutputStream.java:709)\n\tat org.apache.spark.util.Utils$.writeByteBuffer(Utils.scala:232)\n\tat org.apache.spark.scheduler.DirectTaskResult.$anonfun$writeExternal$1(TaskResult.scala:53)\n\tat org.apache.spark.scheduler.DirectTaskResult$$Lambda$2128/1206044447.apply$mcV$sp(Unknown Source)\n\tat scala.runtime.java8.JFunction0$mcV$sp.apply(JFunction0$mcV$sp.java:23)\n\tat org.apache.spark.util.Utils$.tryOrIOException(Utils.scala:1343)\n\tat org.apache.spark.scheduler.DirectTaskResult.writeExternal(TaskResult.scala:51)\n\tat java.io.ObjectOutputStream.writeExternalData(ObjectOutputStream.java:1459)\n\tat java.io.ObjectOutputStream.writeOrdinaryObject(ObjectOutputStream.java:1430)\n\tat java.io.ObjectOutputStream.writeObject0(ObjectOutputStream.java:1178)\n\tat java.io.ObjectOutputStream.writeObject(ObjectOutputStream.java:348)\n\tat org.apache.spark.serializer.JavaSerializationStream.writeObject(JavaSerializer.scala:44)\n\tat org.apache.spark.serializer.JavaSerializerInstance.serialize(JavaSerializer.scala:101)\n\tat org.apache.spark.executor.Executor$TaskRunner.run(Executor.scala:572)\n\tat java.util.concurrent.ThreadPoolExecutor.runWorker(ThreadPoolExecutor.java:1149)\n\tat java.util.concurrent.ThreadPoolExecutor$Worker.run(ThreadPoolExecutor.java:624)\n\t... 1 more\n"
     ]
    }
   ],
   "metadata": {}
  },
  {
   "cell_type": "markdown",
   "source": [
    "# Mostrando los archivos."
   ],
   "metadata": {}
  },
  {
   "cell_type": "code",
   "execution_count": 9,
   "source": [
    "# Mostrando los data frame\n",
    "df_2017.show()"
   ],
   "outputs": [
    {
     "output_type": "stream",
     "name": "stdout",
     "text": [
      "+---+-----------+------------+-----------+-----------+------+----------+----------+\n",
      "| id|data_source|       bssid|        lat|        lon| range|   updated|   created|\n",
      "+---+-----------+------------+-----------+-----------+------+----------+----------+\n",
      "|  1|          0|0001E3C290F9|45.22128388|16.54838246|139.01|1428513555|1428513555|\n",
      "|  2|          0|000C421F65E9|45.22027969|16.54707052|140.00|1428513555|1428513555|\n",
      "|  3|          0|000C422377FC|45.20828617|16.90385474|140.00|1428513555|1428513555|\n",
      "|  4|          0|000C422377F4|45.20799464|16.90336159|140.00|1428513555|1428513555|\n",
      "|  5|          0|000C422377C5|45.17570261|16.81720250|140.00|1428513555|1428513555|\n",
      "|  6|          0|000C42630AED|45.18732229|16.83431923|140.00|1428513555|1428513555|\n",
      "|  7|          0|000C42630AEC|45.18054666|16.81053529|140.00|1428513555|1428513555|\n",
      "|  8|          0|0005595C556A|45.18191138|16.80946429|140.00|1428513555|1428513555|\n",
      "|  9|          0|000C421BB4FE|45.20791481|16.90272641|140.00|1428513555|1428513555|\n",
      "| 10|          0|000C422CC930|45.19232675|16.84438858|140.00|1428513555|1428513555|\n",
      "| 11|          0|0005595C7B59|45.18621844|16.83064594|140.00|1428513555|1428513555|\n",
      "| 12|          0|000C420CCF25|45.17452761|16.81220048|140.00|1428513555|1428513555|\n",
      "| 13|          0|000559604EC0|45.20764763|16.89996500|140.00|1428513555|1428513555|\n",
      "| 14|          0|000C42654000|45.17547062|16.81085728|140.00|1428513555|1428513555|\n",
      "| 15|          0|00040EDA3168|45.19115249|16.84309165|140.00|1428513555|1428513555|\n",
      "| 16|          0|000559602166|45.17589047|16.81072141|140.00|1428513555|1428513555|\n",
      "| 17|          0|000FFD1F37D8|45.17461082|16.81284496|140.00|1428513555|1428513555|\n",
      "| 18|          0|000C4223D3BF|45.17934993|16.82277136|140.00|1428513555|1428513555|\n",
      "| 19|          0|000C42059D59|45.17618721|16.81837295|140.00|1428513555|1428513555|\n",
      "| 20|          0|000C420C4B40|45.18137433|16.80990723|140.00|1428513555|1428513555|\n",
      "+---+-----------+------------+-----------+-----------+------+----------+----------+\n",
      "only showing top 20 rows\n",
      "\n"
     ]
    }
   ],
   "metadata": {}
  },
  {
   "cell_type": "code",
   "execution_count": 10,
   "source": [
    "df_2018.show()"
   ],
   "outputs": [
    {
     "output_type": "stream",
     "name": "stdout",
     "text": [
      "+-------+------------+-----------+-----------+----------+----+\n",
      "|     id|       bssid|        lat|        lon|   updated|data|\n",
      "+-------+------------+-----------+-----------+----------+----+\n",
      "|1773306|F83DFFBBBA29|59.31152020|18.07471230|1428513555|   0|\n",
      "|1773307|0026180A9583|59.29648818|18.06929944|1428513555|   0|\n",
      "|1773308|00248C3B965B|59.30886047|18.07669099|1428513555|   0|\n",
      "|1773309|00248CAAF77A|59.29378075|18.05087886|1428513555|   0|\n",
      "|1773310|4C60DE7CC982|59.31155087|18.07525706|1428513555|   0|\n",
      "|1773311|00248C93A4FC|59.30421726|18.07856642|1428513555|   0|\n",
      "|1773312|A021B74D1A61|59.29762960|18.07197083|1428513555|   0|\n",
      "|1773313|0001387568D4|59.29430646|18.04973913|1428513555|   0|\n",
      "|1773315|0025BC8DA6FC|59.31209248|18.07632087|1428513555|   0|\n",
      "|1773317|2837374A8235|59.30896188|18.07752865|1428513555|   0|\n",
      "|1773318|0016A61817FA|59.29355670|18.05207263|1428513555|   0|\n",
      "|1773319|00223F9C5739|59.29361025|18.05284041|1428513555|   0|\n",
      "|1773320|0025BC8DA6FB|59.31190825|18.07605543|1428513555|   0|\n",
      "|1773321|0CD9969C4410|59.30579556|18.07770220|1428513555|   0|\n",
      "|1773322|7071BC1B9B9A|59.31009004|18.07956065|1428513555|   0|\n",
      "|1773323|E0699553C612|59.30898333|18.07772822|1428513555|   0|\n",
      "|1773325|008EF2A8D092|59.29912092|18.07637351|1428513555|   0|\n",
      "|1773326|0CD9969C4411|59.30564208|18.07779933|1428513555|   0|\n",
      "|1773327|00221567A0BA|59.29359843|18.05273745|1428513555|   0|\n",
      "|1773328|10BF483D8CA7|59.31015794|18.07976227|1428513555|   0|\n",
      "+-------+------------+-----------+-----------+----------+----+\n",
      "only showing top 20 rows\n",
      "\n"
     ]
    }
   ],
   "metadata": {}
  },
  {
   "cell_type": "code",
   "execution_count": 11,
   "source": [
    "df_2019.show()"
   ],
   "outputs": [
    {
     "output_type": "stream",
     "name": "stdout",
     "text": [
      "+---+------------+-----------+-----------+----------+----+\n",
      "| id|       bssid|        lat|        lon|   updated|data|\n",
      "+---+------------+-----------+-----------+----------+----+\n",
      "|  1|0001E3C290F9|45.22128388|16.54838246|1428513555|   0|\n",
      "|  2|000C421F65E9|45.22027969|16.54707052|1428513555|   0|\n",
      "|  3|000C422377FC|45.20828617|16.90385474|1428513555|   0|\n",
      "|  4|000C422377F4|45.20799464|16.90336159|1428513555|   0|\n",
      "|  5|000C422377C5|45.17570261|16.81720250|1428513555|   0|\n",
      "|  6|000C42630AED|45.18732229|16.83431923|1428513555|   0|\n",
      "|  7|000C42630AEC|45.18054666|16.81053529|1428513555|   0|\n",
      "|  8|0005595C556A|45.18191138|16.80946429|1428513555|   0|\n",
      "|  9|000C421BB4FE|45.20791481|16.90272641|1428513555|   0|\n",
      "| 10|000C422CC930|45.19232675|16.84438858|1428513555|   0|\n",
      "| 11|0005595C7B59|45.18621844|16.83064594|1428513555|   0|\n",
      "| 12|000C420CCF25|45.17452761|16.81220048|1428513555|   0|\n",
      "| 13|000559604EC0|45.20764763|16.89996500|1428513555|   0|\n",
      "| 14|000C42654000|45.17547062|16.81085728|1428513555|   0|\n",
      "| 15|00040EDA3168|45.19115249|16.84309165|1428513555|   0|\n",
      "| 16|000559602166|45.17589047|16.81072141|1428513555|   0|\n",
      "| 17|000FFD1F37D8|45.17461082|16.81284496|1428513555|   0|\n",
      "| 18|000C4223D3BF|45.17934993|16.82277136|1428513555|   0|\n",
      "| 19|000C42059D59|45.17618721|16.81837295|1428513555|   0|\n",
      "| 20|000C420C4B40|45.18137433|16.80990723|1428513555|   0|\n",
      "+---+------------+-----------+-----------+----------+----+\n",
      "only showing top 20 rows\n",
      "\n"
     ]
    }
   ],
   "metadata": {}
  },
  {
   "cell_type": "code",
   "execution_count": 12,
   "source": [
    "# Muestro el esquema de los dataframes.\n",
    "df_2017.printSchema()"
   ],
   "outputs": [
    {
     "output_type": "stream",
     "name": "stdout",
     "text": [
      "root\n",
      " |-- id: string (nullable = true)\n",
      " |-- data_source: string (nullable = true)\n",
      " |-- bssid: string (nullable = true)\n",
      " |-- lat: string (nullable = true)\n",
      " |-- lon: string (nullable = true)\n",
      " |-- range: string (nullable = true)\n",
      " |-- updated: string (nullable = true)\n",
      " |-- created: string (nullable = true)\n",
      "\n"
     ]
    }
   ],
   "metadata": {}
  },
  {
   "cell_type": "code",
   "execution_count": 13,
   "source": [
    "df_2018.printSchema()"
   ],
   "outputs": [
    {
     "output_type": "stream",
     "name": "stdout",
     "text": [
      "root\n",
      " |-- id: string (nullable = true)\n",
      " |-- bssid: string (nullable = true)\n",
      " |-- lat: string (nullable = true)\n",
      " |-- lon: string (nullable = true)\n",
      " |-- updated: string (nullable = true)\n",
      " |-- data: string (nullable = true)\n",
      "\n"
     ]
    }
   ],
   "metadata": {}
  },
  {
   "cell_type": "code",
   "execution_count": 14,
   "source": [
    "df_2019.printSchema()"
   ],
   "outputs": [
    {
     "output_type": "stream",
     "name": "stdout",
     "text": [
      "root\n",
      " |-- id: string (nullable = true)\n",
      " |-- bssid: string (nullable = true)\n",
      " |-- lat: string (nullable = true)\n",
      " |-- lon: string (nullable = true)\n",
      " |-- updated: string (nullable = true)\n",
      " |-- data: string (nullable = true)\n",
      "\n"
     ]
    }
   ],
   "metadata": {}
  },
  {
   "cell_type": "markdown",
   "source": [
    "# Trabajo de orden y unión de datasets"
   ],
   "metadata": {}
  },
  {
   "cell_type": "code",
   "execution_count": 15,
   "source": [
    "# Cambiando el nombre a la columna data_source por data\n",
    "df_2017 = df_2017.withColumnRenamed(\"data_source\",\"data\")\n",
    "\n",
    "df_2017.printSchema()\n",
    "\n",
    "df_2017.show()"
   ],
   "outputs": [
    {
     "output_type": "stream",
     "name": "stdout",
     "text": [
      "root\n",
      " |-- id: string (nullable = true)\n",
      " |-- data: string (nullable = true)\n",
      " |-- bssid: string (nullable = true)\n",
      " |-- lat: string (nullable = true)\n",
      " |-- lon: string (nullable = true)\n",
      " |-- range: string (nullable = true)\n",
      " |-- updated: string (nullable = true)\n",
      " |-- created: string (nullable = true)\n",
      "\n",
      "+---+----+------------+-----------+-----------+------+----------+----------+\n",
      "| id|data|       bssid|        lat|        lon| range|   updated|   created|\n",
      "+---+----+------------+-----------+-----------+------+----------+----------+\n",
      "|  1|   0|0001E3C290F9|45.22128388|16.54838246|139.01|1428513555|1428513555|\n",
      "|  2|   0|000C421F65E9|45.22027969|16.54707052|140.00|1428513555|1428513555|\n",
      "|  3|   0|000C422377FC|45.20828617|16.90385474|140.00|1428513555|1428513555|\n",
      "|  4|   0|000C422377F4|45.20799464|16.90336159|140.00|1428513555|1428513555|\n",
      "|  5|   0|000C422377C5|45.17570261|16.81720250|140.00|1428513555|1428513555|\n",
      "|  6|   0|000C42630AED|45.18732229|16.83431923|140.00|1428513555|1428513555|\n",
      "|  7|   0|000C42630AEC|45.18054666|16.81053529|140.00|1428513555|1428513555|\n",
      "|  8|   0|0005595C556A|45.18191138|16.80946429|140.00|1428513555|1428513555|\n",
      "|  9|   0|000C421BB4FE|45.20791481|16.90272641|140.00|1428513555|1428513555|\n",
      "| 10|   0|000C422CC930|45.19232675|16.84438858|140.00|1428513555|1428513555|\n",
      "| 11|   0|0005595C7B59|45.18621844|16.83064594|140.00|1428513555|1428513555|\n",
      "| 12|   0|000C420CCF25|45.17452761|16.81220048|140.00|1428513555|1428513555|\n",
      "| 13|   0|000559604EC0|45.20764763|16.89996500|140.00|1428513555|1428513555|\n",
      "| 14|   0|000C42654000|45.17547062|16.81085728|140.00|1428513555|1428513555|\n",
      "| 15|   0|00040EDA3168|45.19115249|16.84309165|140.00|1428513555|1428513555|\n",
      "| 16|   0|000559602166|45.17589047|16.81072141|140.00|1428513555|1428513555|\n",
      "| 17|   0|000FFD1F37D8|45.17461082|16.81284496|140.00|1428513555|1428513555|\n",
      "| 18|   0|000C4223D3BF|45.17934993|16.82277136|140.00|1428513555|1428513555|\n",
      "| 19|   0|000C42059D59|45.17618721|16.81837295|140.00|1428513555|1428513555|\n",
      "| 20|   0|000C420C4B40|45.18137433|16.80990723|140.00|1428513555|1428513555|\n",
      "+---+----+------------+-----------+-----------+------+----------+----------+\n",
      "only showing top 20 rows\n",
      "\n"
     ]
    }
   ],
   "metadata": {}
  },
  {
   "cell_type": "code",
   "execution_count": 16,
   "source": [
    "# Noto que hay columnas extras en un dataset, en primera instancia las elimino.\n",
    "df_2017 = df_2017.drop('range', 'created')\n",
    "\n",
    "df_2017.printSchema()\n",
    "\n",
    "df_2017.show()"
   ],
   "outputs": [
    {
     "output_type": "stream",
     "name": "stdout",
     "text": [
      "root\n",
      " |-- id: string (nullable = true)\n",
      " |-- data: string (nullable = true)\n",
      " |-- bssid: string (nullable = true)\n",
      " |-- lat: string (nullable = true)\n",
      " |-- lon: string (nullable = true)\n",
      " |-- updated: string (nullable = true)\n",
      "\n",
      "+---+----+------------+-----------+-----------+----------+\n",
      "| id|data|       bssid|        lat|        lon|   updated|\n",
      "+---+----+------------+-----------+-----------+----------+\n",
      "|  1|   0|0001E3C290F9|45.22128388|16.54838246|1428513555|\n",
      "|  2|   0|000C421F65E9|45.22027969|16.54707052|1428513555|\n",
      "|  3|   0|000C422377FC|45.20828617|16.90385474|1428513555|\n",
      "|  4|   0|000C422377F4|45.20799464|16.90336159|1428513555|\n",
      "|  5|   0|000C422377C5|45.17570261|16.81720250|1428513555|\n",
      "|  6|   0|000C42630AED|45.18732229|16.83431923|1428513555|\n",
      "|  7|   0|000C42630AEC|45.18054666|16.81053529|1428513555|\n",
      "|  8|   0|0005595C556A|45.18191138|16.80946429|1428513555|\n",
      "|  9|   0|000C421BB4FE|45.20791481|16.90272641|1428513555|\n",
      "| 10|   0|000C422CC930|45.19232675|16.84438858|1428513555|\n",
      "| 11|   0|0005595C7B59|45.18621844|16.83064594|1428513555|\n",
      "| 12|   0|000C420CCF25|45.17452761|16.81220048|1428513555|\n",
      "| 13|   0|000559604EC0|45.20764763|16.89996500|1428513555|\n",
      "| 14|   0|000C42654000|45.17547062|16.81085728|1428513555|\n",
      "| 15|   0|00040EDA3168|45.19115249|16.84309165|1428513555|\n",
      "| 16|   0|000559602166|45.17589047|16.81072141|1428513555|\n",
      "| 17|   0|000FFD1F37D8|45.17461082|16.81284496|1428513555|\n",
      "| 18|   0|000C4223D3BF|45.17934993|16.82277136|1428513555|\n",
      "| 19|   0|000C42059D59|45.17618721|16.81837295|1428513555|\n",
      "| 20|   0|000C420C4B40|45.18137433|16.80990723|1428513555|\n",
      "+---+----+------------+-----------+-----------+----------+\n",
      "only showing top 20 rows\n",
      "\n"
     ]
    }
   ],
   "metadata": {}
  },
  {
   "cell_type": "code",
   "execution_count": 17,
   "source": [
    "# Ahora ordeno las columnas para que todas tengan el mismo orden.\n",
    "df_2017 = df_2017.select('id','bssid','lat','lon', 'updated', 'data')\n",
    "\n",
    "df_2017.printSchema()\n",
    "\n",
    "df_2017.show()"
   ],
   "outputs": [
    {
     "output_type": "stream",
     "name": "stdout",
     "text": [
      "root\n",
      " |-- id: string (nullable = true)\n",
      " |-- bssid: string (nullable = true)\n",
      " |-- lat: string (nullable = true)\n",
      " |-- lon: string (nullable = true)\n",
      " |-- updated: string (nullable = true)\n",
      " |-- data: string (nullable = true)\n",
      "\n",
      "+---+------------+-----------+-----------+----------+----+\n",
      "| id|       bssid|        lat|        lon|   updated|data|\n",
      "+---+------------+-----------+-----------+----------+----+\n",
      "|  1|0001E3C290F9|45.22128388|16.54838246|1428513555|   0|\n",
      "|  2|000C421F65E9|45.22027969|16.54707052|1428513555|   0|\n",
      "|  3|000C422377FC|45.20828617|16.90385474|1428513555|   0|\n",
      "|  4|000C422377F4|45.20799464|16.90336159|1428513555|   0|\n",
      "|  5|000C422377C5|45.17570261|16.81720250|1428513555|   0|\n",
      "|  6|000C42630AED|45.18732229|16.83431923|1428513555|   0|\n",
      "|  7|000C42630AEC|45.18054666|16.81053529|1428513555|   0|\n",
      "|  8|0005595C556A|45.18191138|16.80946429|1428513555|   0|\n",
      "|  9|000C421BB4FE|45.20791481|16.90272641|1428513555|   0|\n",
      "| 10|000C422CC930|45.19232675|16.84438858|1428513555|   0|\n",
      "| 11|0005595C7B59|45.18621844|16.83064594|1428513555|   0|\n",
      "| 12|000C420CCF25|45.17452761|16.81220048|1428513555|   0|\n",
      "| 13|000559604EC0|45.20764763|16.89996500|1428513555|   0|\n",
      "| 14|000C42654000|45.17547062|16.81085728|1428513555|   0|\n",
      "| 15|00040EDA3168|45.19115249|16.84309165|1428513555|   0|\n",
      "| 16|000559602166|45.17589047|16.81072141|1428513555|   0|\n",
      "| 17|000FFD1F37D8|45.17461082|16.81284496|1428513555|   0|\n",
      "| 18|000C4223D3BF|45.17934993|16.82277136|1428513555|   0|\n",
      "| 19|000C42059D59|45.17618721|16.81837295|1428513555|   0|\n",
      "| 20|000C420C4B40|45.18137433|16.80990723|1428513555|   0|\n",
      "+---+------------+-----------+-----------+----------+----+\n",
      "only showing top 20 rows\n",
      "\n"
     ]
    }
   ],
   "metadata": {}
  },
  {
   "cell_type": "code",
   "execution_count": 18,
   "source": [
    "# Ahora uno los df_2017, df_2018 y df_2019\n",
    "df_2017_2018_2019 = (df_2017.union(df_2018)).union(df_2019)\n",
    "df_2017_2018_2019.show(truncate=False)"
   ],
   "outputs": [
    {
     "output_type": "stream",
     "name": "stdout",
     "text": [
      "+---+------------+-----------+-----------+----------+----+\n",
      "|id |bssid       |lat        |lon        |updated   |data|\n",
      "+---+------------+-----------+-----------+----------+----+\n",
      "|1  |0001E3C290F9|45.22128388|16.54838246|1428513555|0   |\n",
      "|2  |000C421F65E9|45.22027969|16.54707052|1428513555|0   |\n",
      "|3  |000C422377FC|45.20828617|16.90385474|1428513555|0   |\n",
      "|4  |000C422377F4|45.20799464|16.90336159|1428513555|0   |\n",
      "|5  |000C422377C5|45.17570261|16.81720250|1428513555|0   |\n",
      "|6  |000C42630AED|45.18732229|16.83431923|1428513555|0   |\n",
      "|7  |000C42630AEC|45.18054666|16.81053529|1428513555|0   |\n",
      "|8  |0005595C556A|45.18191138|16.80946429|1428513555|0   |\n",
      "|9  |000C421BB4FE|45.20791481|16.90272641|1428513555|0   |\n",
      "|10 |000C422CC930|45.19232675|16.84438858|1428513555|0   |\n",
      "|11 |0005595C7B59|45.18621844|16.83064594|1428513555|0   |\n",
      "|12 |000C420CCF25|45.17452761|16.81220048|1428513555|0   |\n",
      "|13 |000559604EC0|45.20764763|16.89996500|1428513555|0   |\n",
      "|14 |000C42654000|45.17547062|16.81085728|1428513555|0   |\n",
      "|15 |00040EDA3168|45.19115249|16.84309165|1428513555|0   |\n",
      "|16 |000559602166|45.17589047|16.81072141|1428513555|0   |\n",
      "|17 |000FFD1F37D8|45.17461082|16.81284496|1428513555|0   |\n",
      "|18 |000C4223D3BF|45.17934993|16.82277136|1428513555|0   |\n",
      "|19 |000C42059D59|45.17618721|16.81837295|1428513555|0   |\n",
      "|20 |000C420C4B40|45.18137433|16.80990723|1428513555|0   |\n",
      "+---+------------+-----------+-----------+----------+----+\n",
      "only showing top 20 rows\n",
      "\n"
     ]
    }
   ],
   "metadata": {}
  },
  {
   "cell_type": "code",
   "execution_count": 19,
   "source": [
    "# Elimino las columnas innecesarias.\n",
    "df_2017_2018_2019 = df_2017_2018_2019.drop('updated', 'data')"
   ],
   "outputs": [],
   "metadata": {}
  },
  {
   "cell_type": "code",
   "execution_count": 20,
   "source": [
    "df_all = df_2017_2018_2019\n",
    "\n",
    "# Ahora creo el df solo con la RM según coordenadas de google maps.\n",
    "df_stgo = df_all.filter((df_all.lat >= -33.65) &\n",
    "                        (df_all.lat <= -33.28) &\n",
    "                        (df_all.lon >= -70.81) &\n",
    "                        (df_all.lon <= -70.50))\n",
    "df_stgo.show(truncate=False)"
   ],
   "outputs": [
    {
     "output_type": "stream",
     "name": "stdout",
     "text": [
      "+-------+------------+------------+------------+\n",
      "|id     |bssid       |lat         |lon         |\n",
      "+-------+------------+------------+------------+\n",
      "|1285341|0014D1C215FC|-33.41427150|-70.58757711|\n",
      "|1286364|0014D1C2B5CB|-33.39549419|-70.57584321|\n",
      "|1286365|0014D1C2B5CD|-33.39581286|-70.57651276|\n",
      "|1289316|FE1EDFFAF7CB|-33.41758751|-70.57447417|\n",
      "|1384654|5C969D6AB06B|-33.41263839|-70.56671968|\n",
      "|2328903|021A11FA6F64|-33.41190269|-70.59103650|\n",
      "|3648783|000C43305078|-33.40335311|-70.57694492|\n",
      "|4218478|10F96FEB5D31|-33.41766917|-70.57476819|\n",
      "|6225902|022A6AA0B39B|-33.41709922|-70.59772660|\n",
      "|8837909|BC9680DE5933|-33.41273061|-70.59400614|\n",
      "|8849256|586D8F19CB85|-33.39880726|-70.58795291|\n",
      "|8849258|728B979DD133|-33.39880726|-70.58795291|\n",
      "|8849264|D830622E7695|-33.40762979|-70.60031867|\n",
      "|8849268|A45D363BE061|-33.39285484|-70.57425676|\n",
      "|8849282|F4F1E1D6A1D9|-33.39868293|-70.58754253|\n",
      "|8849284|90E6BAA1F845|-33.39744255|-70.58129586|\n",
      "|8849285|FC94E331C7CB|-33.40206855|-70.59419039|\n",
      "|8849288|8C04FF13B85C|-33.39563392|-70.58049829|\n",
      "|8849290|7CBFB13D2DA8|-33.40643588|-70.59878569|\n",
      "|8849291|B0487A977936|-33.40319848|-70.59532792|\n",
      "+-------+------------+------------+------------+\n",
      "only showing top 20 rows\n",
      "\n"
     ]
    }
   ],
   "metadata": {}
  },
  {
   "cell_type": "code",
   "execution_count": 21,
   "source": [
    "# Credo el df final de Stgo.\n",
    "# Separo la columna bssid en una que contendrá Media_mac y otra que contendrá\n",
    "# Id_fabricante.\n",
    "df_stgo = df_stgo.withColumn(\"Media_mac\", expr(\"substring(bssid,1,length(bssid)-6)\")).withColumn(\n",
    "    \"Id_fabricante\", expr(\"substring(bssid,7,length(bssid)-6)\")).drop(\"bssid\")\n",
    "df_stgo.show()"
   ],
   "outputs": [
    {
     "output_type": "stream",
     "name": "stdout",
     "text": [
      "+-------+------------+------------+---------+-------------+\n",
      "|     id|         lat|         lon|Media_mac|Id_fabricante|\n",
      "+-------+------------+------------+---------+-------------+\n",
      "|1285341|-33.41427150|-70.58757711|   0014D1|       C215FC|\n",
      "|1286364|-33.39549419|-70.57584321|   0014D1|       C2B5CB|\n",
      "|1286365|-33.39581286|-70.57651276|   0014D1|       C2B5CD|\n",
      "|1289316|-33.41758751|-70.57447417|   FE1EDF|       FAF7CB|\n",
      "|1384654|-33.41263839|-70.56671968|   5C969D|       6AB06B|\n",
      "|2328903|-33.41190269|-70.59103650|   021A11|       FA6F64|\n",
      "|3648783|-33.40335311|-70.57694492|   000C43|       305078|\n",
      "|4218478|-33.41766917|-70.57476819|   10F96F|       EB5D31|\n",
      "|6225902|-33.41709922|-70.59772660|   022A6A|       A0B39B|\n",
      "|8837909|-33.41273061|-70.59400614|   BC9680|       DE5933|\n",
      "|8849256|-33.39880726|-70.58795291|   586D8F|       19CB85|\n",
      "|8849258|-33.39880726|-70.58795291|   728B97|       9DD133|\n",
      "|8849264|-33.40762979|-70.60031867|   D83062|       2E7695|\n",
      "|8849268|-33.39285484|-70.57425676|   A45D36|       3BE061|\n",
      "|8849282|-33.39868293|-70.58754253|   F4F1E1|       D6A1D9|\n",
      "|8849284|-33.39744255|-70.58129586|   90E6BA|       A1F845|\n",
      "|8849285|-33.40206855|-70.59419039|   FC94E3|       31C7CB|\n",
      "|8849288|-33.39563392|-70.58049829|   8C04FF|       13B85C|\n",
      "|8849290|-33.40643588|-70.59878569|   7CBFB1|       3D2DA8|\n",
      "|8849291|-33.40319848|-70.59532792|   B0487A|       977936|\n",
      "+-------+------------+------------+---------+-------------+\n",
      "only showing top 20 rows\n",
      "\n"
     ]
    }
   ],
   "metadata": {}
  },
  {
   "cell_type": "markdown",
   "source": [
    "# Archivo de texto"
   ],
   "metadata": {}
  },
  {
   "cell_type": "code",
   "execution_count": 22,
   "source": [
    "# Ahora trabajo con el archivo de texto creando un diccionario\n",
    "result = dict()\n",
    "for lig in open('/home/rafa/Dropbox/Linux_MDS/BDAnalytics/sprint1/data/oui.txt'):\n",
    "    if 'base 16' in lig:\n",
    "        num, sep, txt = lig.strip().partition('(base 16)')\n",
    "        result[num.strip()] = txt.strip()"
   ],
   "outputs": [],
   "metadata": {}
  },
  {
   "cell_type": "code",
   "execution_count": 23,
   "source": [
    "# Transformo el diccionario en csv para mejor manipulacion\n",
    "with open('/home/rafa/Dropbox/Linux_MDS/BDAnalytics/sprint1/oui.csv',\n",
    "          'w') as f:\n",
    "    w = csv.writer(f)\n",
    "    w.writerows(result.items())\n"
   ],
   "outputs": [],
   "metadata": {}
  },
  {
   "cell_type": "code",
   "execution_count": 24,
   "source": [
    "# Creo el df\n",
    "df_oui = sqlContext.read.csv('/home/rafa/Dropbox/Linux_MDS/BDAnalytics/'\n",
    "                             'sprint1/oui.csv',\n",
    "                             header=False)"
   ],
   "outputs": [],
   "metadata": {}
  },
  {
   "cell_type": "code",
   "execution_count": 25,
   "source": [
    "# Despliego el dataframe, es importante saber que los ultimos 6 dígitos del\n",
    "# bssid corresponden al Id indicado como _c0\n",
    "df_oui.show(truncate=False)"
   ],
   "outputs": [
    {
     "output_type": "stream",
     "name": "stdout",
     "text": [
      "+------+------------------------------------------------------------+\n",
      "|_c0   |_c1                                                         |\n",
      "+------+------------------------------------------------------------+\n",
      "|002272|American Micro-Fuel Device Corp.                            |\n",
      "|00D0EF|IGT                                                         |\n",
      "|086195|Rockwell Automation                                         |\n",
      "|F4BD9E|Cisco Systems, Inc                                          |\n",
      "|5885E9|Realme Chongqing MobileTelecommunications Corp Ltd          |\n",
      "|BC2392|BYD Precision Manufacture Company Ltd.                      |\n",
      "|405582|Nokia                                                       |\n",
      "|A4E31B|Nokia                                                       |\n",
      "|D89790|Commonwealth Scientific and Industrial Research Organisation|\n",
      "|883A30|Aruba, a Hewlett Packard Enterprise Company                 |\n",
      "|B8A58D|Axe Group Holdings Limited                                  |\n",
      "|50CEE3|Gigafirm.co.LTD                                             |\n",
      "|98E743|Dell Inc.                                                   |\n",
      "|C419D1|Telink Semiconductor (Shanghai) Co., Ltd.                   |\n",
      "|887E25|Extreme Networks, Inc.                                      |\n",
      "|086083|zte corporation                                             |\n",
      "|E01954|zte corporation                                             |\n",
      "|10327E|Huawei Device Co., Ltd.                                     |\n",
      "|F8084F|Sagemcom Broadband SAS                                      |\n",
      "|30FBB8|HUAWEI TECHNOLOGIES CO.,LTD                                 |\n",
      "+------+------------------------------------------------------------+\n",
      "only showing top 20 rows\n",
      "\n"
     ]
    }
   ],
   "metadata": {}
  },
  {
   "cell_type": "markdown",
   "source": [
    "# Shapefile"
   ],
   "metadata": {}
  },
  {
   "cell_type": "code",
   "execution_count": 26,
   "source": [
    "# Este archivo contiene todo lo solictado, salvo la ciudad.\n",
    "Manzana_Precensal = gpd.read_file('/home/rafa/Dropbox/Linux_MDS/BDAnalytics/'\n",
    "                                  'sprint1/data/'\n",
    "                                  'Manzana_Precensal.shp')"
   ],
   "outputs": [],
   "metadata": {}
  },
  {
   "cell_type": "code",
   "execution_count": 27,
   "source": [
    "# Elimino columnas innecesarias.\n",
    "# COD_ZON corresponde a Zona Censal.\n",
    "# COD_ENT corrresponde a Manzana Censal.\n",
    "# DES_COMU a la comuna.\n",
    "Manzana_Precensal = Manzana_Precensal.drop(['DES_REGI', 'MANZENT', 'COMUNA',\n",
    "                                            'PROVINCIA', 'DES_PROV', 'REGION',\n",
    "                                            'COD_DIS'],\n",
    "                                           axis=1)\n",
    "Manzana_Precensal"
   ],
   "outputs": [
    {
     "output_type": "execute_result",
     "data": {
      "text/plain": [
       "       COD_ZON  COD_ENT   DES_COMU  \\\n",
       "0            3        1  CERRILLOS   \n",
       "1            3        4  CERRILLOS   \n",
       "2            3        5  CERRILLOS   \n",
       "3            3        8  CERRILLOS   \n",
       "4            3        9  CERRILLOS   \n",
       "...        ...      ...        ...   \n",
       "53048        1      504   PEÑAFLOR   \n",
       "53049        1      503   PEÑAFLOR   \n",
       "53050        1      502   PEÑAFLOR   \n",
       "53051        1      505   PEÑAFLOR   \n",
       "53052        1      501   PEÑAFLOR   \n",
       "\n",
       "                                                geometry  \n",
       "0      POLYGON ((-70.72166 -33.47385, -70.72197 -33.4...  \n",
       "1      POLYGON ((-70.72136 -33.47420, -70.72160 -33.4...  \n",
       "2      POLYGON ((-70.72105 -33.47455, -70.72124 -33.4...  \n",
       "3      POLYGON ((-70.72079 -33.47509, -70.72089 -33.4...  \n",
       "4      POLYGON ((-70.72052 -33.47563, -70.72052 -33.4...  \n",
       "...                                                  ...  \n",
       "53048  POLYGON ((-70.87621 -33.61954, -70.87751 -33.6...  \n",
       "53049  POLYGON ((-70.87723 -33.61920, -70.87741 -33.6...  \n",
       "53050  POLYGON ((-70.87713 -33.61883, -70.87731 -33.6...  \n",
       "53051  POLYGON ((-70.87556 -33.61840, -70.87561 -33.6...  \n",
       "53052  POLYGON ((-70.87805 -33.62117, -70.87803 -33.6...  \n",
       "\n",
       "[53053 rows x 4 columns]"
      ],
      "text/html": [
       "<div>\n",
       "<style scoped>\n",
       "    .dataframe tbody tr th:only-of-type {\n",
       "        vertical-align: middle;\n",
       "    }\n",
       "\n",
       "    .dataframe tbody tr th {\n",
       "        vertical-align: top;\n",
       "    }\n",
       "\n",
       "    .dataframe thead th {\n",
       "        text-align: right;\n",
       "    }\n",
       "</style>\n",
       "<table border=\"1\" class=\"dataframe\">\n",
       "  <thead>\n",
       "    <tr style=\"text-align: right;\">\n",
       "      <th></th>\n",
       "      <th>COD_ZON</th>\n",
       "      <th>COD_ENT</th>\n",
       "      <th>DES_COMU</th>\n",
       "      <th>geometry</th>\n",
       "    </tr>\n",
       "  </thead>\n",
       "  <tbody>\n",
       "    <tr>\n",
       "      <th>0</th>\n",
       "      <td>3</td>\n",
       "      <td>1</td>\n",
       "      <td>CERRILLOS</td>\n",
       "      <td>POLYGON ((-70.72166 -33.47385, -70.72197 -33.4...</td>\n",
       "    </tr>\n",
       "    <tr>\n",
       "      <th>1</th>\n",
       "      <td>3</td>\n",
       "      <td>4</td>\n",
       "      <td>CERRILLOS</td>\n",
       "      <td>POLYGON ((-70.72136 -33.47420, -70.72160 -33.4...</td>\n",
       "    </tr>\n",
       "    <tr>\n",
       "      <th>2</th>\n",
       "      <td>3</td>\n",
       "      <td>5</td>\n",
       "      <td>CERRILLOS</td>\n",
       "      <td>POLYGON ((-70.72105 -33.47455, -70.72124 -33.4...</td>\n",
       "    </tr>\n",
       "    <tr>\n",
       "      <th>3</th>\n",
       "      <td>3</td>\n",
       "      <td>8</td>\n",
       "      <td>CERRILLOS</td>\n",
       "      <td>POLYGON ((-70.72079 -33.47509, -70.72089 -33.4...</td>\n",
       "    </tr>\n",
       "    <tr>\n",
       "      <th>4</th>\n",
       "      <td>3</td>\n",
       "      <td>9</td>\n",
       "      <td>CERRILLOS</td>\n",
       "      <td>POLYGON ((-70.72052 -33.47563, -70.72052 -33.4...</td>\n",
       "    </tr>\n",
       "    <tr>\n",
       "      <th>...</th>\n",
       "      <td>...</td>\n",
       "      <td>...</td>\n",
       "      <td>...</td>\n",
       "      <td>...</td>\n",
       "    </tr>\n",
       "    <tr>\n",
       "      <th>53048</th>\n",
       "      <td>1</td>\n",
       "      <td>504</td>\n",
       "      <td>PEÑAFLOR</td>\n",
       "      <td>POLYGON ((-70.87621 -33.61954, -70.87751 -33.6...</td>\n",
       "    </tr>\n",
       "    <tr>\n",
       "      <th>53049</th>\n",
       "      <td>1</td>\n",
       "      <td>503</td>\n",
       "      <td>PEÑAFLOR</td>\n",
       "      <td>POLYGON ((-70.87723 -33.61920, -70.87741 -33.6...</td>\n",
       "    </tr>\n",
       "    <tr>\n",
       "      <th>53050</th>\n",
       "      <td>1</td>\n",
       "      <td>502</td>\n",
       "      <td>PEÑAFLOR</td>\n",
       "      <td>POLYGON ((-70.87713 -33.61883, -70.87731 -33.6...</td>\n",
       "    </tr>\n",
       "    <tr>\n",
       "      <th>53051</th>\n",
       "      <td>1</td>\n",
       "      <td>505</td>\n",
       "      <td>PEÑAFLOR</td>\n",
       "      <td>POLYGON ((-70.87556 -33.61840, -70.87561 -33.6...</td>\n",
       "    </tr>\n",
       "    <tr>\n",
       "      <th>53052</th>\n",
       "      <td>1</td>\n",
       "      <td>501</td>\n",
       "      <td>PEÑAFLOR</td>\n",
       "      <td>POLYGON ((-70.87805 -33.62117, -70.87803 -33.6...</td>\n",
       "    </tr>\n",
       "  </tbody>\n",
       "</table>\n",
       "<p>53053 rows × 4 columns</p>\n",
       "</div>"
      ]
     },
     "metadata": {},
     "execution_count": 27
    }
   ],
   "metadata": {}
  },
  {
   "cell_type": "markdown",
   "source": [
    "# Construyendo funciones para los futures"
   ],
   "metadata": {}
  },
  {
   "cell_type": "markdown",
   "source": [
    "## Fabricante"
   ],
   "metadata": {}
  },
  {
   "cell_type": "code",
   "execution_count": 28,
   "source": [
    "# Uno los df_stgo y df_oui a traves de un join y además le solicito que lo haga\n",
    "# en donde Id_fabricante sea idéntico a _c0 del df_oui.\n",
    "df_stgo = df_stgo.join(df_oui).where(df_stgo[\"Id_fabricante\"] == df_oui[\"_c0\"])\n",
    "df_stgo.show()"
   ],
   "outputs": [
    {
     "output_type": "stream",
     "name": "stdout",
     "text": [
      "+-------+------------+------------+---------+-------------+------+--------------------+\n",
      "|     id|         lat|         lon|Media_mac|Id_fabricante|   _c0|                 _c1|\n",
      "+-------+------------+------------+---------+-------------+------+--------------------+\n",
      "|8851381|-33.39878098|-70.58056336|   20107A|       8CB7F7|8CB7F7|Shenzhen UniStron...|\n",
      "|8991760|-33.45070136|-70.75380023|   002722|       F08BFE|F08BFE|      COSTEL.,CO.LTD|\n",
      "|8992147|-33.41055157|-70.56676255|   0C6803|       E41C4B|E41C4B| V2 TECHNOLOGY, INC.|\n",
      "|8992171|-33.39820408|-70.56019314|   000BB4|       0007DF|0007DF| Vbrick Systems Inc.|\n",
      "|8993476|-33.45174934|-70.74853376|   001F35|       00042E|00042E|Netous Technologi...|\n",
      "|8994001|-33.41576891|-70.56841615|   407009|       D4A425|D4A425|SMAX Technology C...|\n",
      "|8994952|-33.41655483|-70.57108378|   00259C|       08ACA5|08ACA5|    Benu Video, Inc.|\n",
      "|8996440|-33.40128826|-70.56009621|   7C0507|       F8BAE6|F8BAE6|               Nokia|\n",
      "|9035739|-33.41952401|-70.56423840|   FC94E3|       309435|309435|vivo Mobile Commu...|\n",
      "|9037002|-33.39551161|-70.57774303|   EC9A74|       982D56|982D56|    Resolution Audio|\n",
      "|9037021|-33.40763210|-70.56780454|   9ED21E|       649A12|649A12|P2 Mobile Technol...|\n",
      "|9037608|-33.42031703|-70.56434979|   002215|       001BDC|001BDC|    Vencer Co., Ltd.|\n",
      "|9039603|-33.38217686|-70.53225271|   88DC96|       002668|002668|   Nokia Danmark A/S|\n",
      "|9055555|-33.41397376|-70.59796982|   001F35|       000E0A|000E0A|SAKUMA DESIGN OFFICE|\n",
      "|9055993|-33.41787866|-70.60040929|   E8DE27|       5CE2F4|5CE2F4|AcSiP Technology ...|\n",
      "|9056544|-33.41607581|-70.59368305|   BC671C|       E8DFF2|E8DFF2|       PRF Co., Ltd.|\n",
      "|9065903|-33.41546626|-70.59515193|   24C9A1|       00B338|00B338|Kontron Asia Paci...|\n",
      "|9482383|-33.40697000|-70.55810000|   021B77|       00094D|00094D|Braintree Communi...|\n",
      "|9487820|-33.43999000|-70.65355000|   021B77|       0018DC|0018DC|   Prostar Co., Ltd.|\n",
      "|9489925|-33.39862000|-70.58804000|   021B77|       001EBC|001EBC|WINTECH AUTOMATIO...|\n",
      "+-------+------------+------------+---------+-------------+------+--------------------+\n",
      "only showing top 20 rows\n",
      "\n"
     ]
    }
   ],
   "metadata": {}
  },
  {
   "cell_type": "code",
   "execution_count": 29,
   "source": [
    "# Elimino la columna _c0\n",
    "df_stgo = df_stgo.drop('_c0')\n",
    "df_stgo.show(truncate=False)"
   ],
   "outputs": [
    {
     "output_type": "stream",
     "name": "stdout",
     "text": [
      "+-------+------------+------------+---------+-------------+------------------------------------------------+\n",
      "|id     |lat         |lon         |Media_mac|Id_fabricante|_c1                                             |\n",
      "+-------+------------+------------+---------+-------------+------------------------------------------------+\n",
      "|8851381|-33.39878098|-70.58056336|20107A   |8CB7F7       |Shenzhen UniStrong Science & Technology Co., Ltd|\n",
      "|8991760|-33.45070136|-70.75380023|002722   |F08BFE       |COSTEL.,CO.LTD                                  |\n",
      "|8992147|-33.41055157|-70.56676255|0C6803   |E41C4B       |V2 TECHNOLOGY, INC.                             |\n",
      "|8992171|-33.39820408|-70.56019314|000BB4   |0007DF       |Vbrick Systems Inc.                             |\n",
      "|8993476|-33.45174934|-70.74853376|001F35   |00042E       |Netous Technologies, Ltd.                       |\n",
      "|8994001|-33.41576891|-70.56841615|407009   |D4A425       |SMAX Technology Co., Ltd.                       |\n",
      "|8994952|-33.41655483|-70.57108378|00259C   |08ACA5       |Benu Video, Inc.                                |\n",
      "|8996440|-33.40128826|-70.56009621|7C0507   |F8BAE6       |Nokia                                           |\n",
      "|9035739|-33.41952401|-70.56423840|FC94E3   |309435       |vivo Mobile Communication Co., Ltd.             |\n",
      "|9037002|-33.39551161|-70.57774303|EC9A74   |982D56       |Resolution Audio                                |\n",
      "|9037021|-33.40763210|-70.56780454|9ED21E   |649A12       |P2 Mobile Technologies Limited                  |\n",
      "|9037608|-33.42031703|-70.56434979|002215   |001BDC       |Vencer Co., Ltd.                                |\n",
      "|9039603|-33.38217686|-70.53225271|88DC96   |002668       |Nokia Danmark A/S                               |\n",
      "|9055555|-33.41397376|-70.59796982|001F35   |000E0A       |SAKUMA DESIGN OFFICE                            |\n",
      "|9055993|-33.41787866|-70.60040929|E8DE27   |5CE2F4       |AcSiP Technology Corp.                          |\n",
      "|9056544|-33.41607581|-70.59368305|BC671C   |E8DFF2       |PRF Co., Ltd.                                   |\n",
      "|9065903|-33.41546626|-70.59515193|24C9A1   |00B338       |Kontron Asia Pacific Design Sdn. Bhd            |\n",
      "|9482383|-33.40697000|-70.55810000|021B77   |00094D       |Braintree Communications Pty Ltd                |\n",
      "|9487820|-33.43999000|-70.65355000|021B77   |0018DC       |Prostar Co., Ltd.                               |\n",
      "|9489925|-33.39862000|-70.58804000|021B77   |001EBC       |WINTECH AUTOMATION CO.,LTD.                     |\n",
      "+-------+------------+------------+---------+-------------+------------------------------------------------+\n",
      "only showing top 20 rows\n",
      "\n"
     ]
    }
   ],
   "metadata": {}
  },
  {
   "cell_type": "markdown",
   "source": [
    "## Información geográfica (ciudad, comuna, zona censal, manzana)"
   ],
   "metadata": {}
  },
  {
   "cell_type": "code",
   "execution_count": 30,
   "source": [
    "# Necesito el df en pandas para trabajarlo.\n",
    "df_manzana = pd.DataFrame(Manzana_Precensal)\n",
    "df_manzana.head()"
   ],
   "outputs": [
    {
     "output_type": "execute_result",
     "data": {
      "text/plain": [
       "   COD_ZON  COD_ENT   DES_COMU  \\\n",
       "0        3        1  CERRILLOS   \n",
       "1        3        4  CERRILLOS   \n",
       "2        3        5  CERRILLOS   \n",
       "3        3        8  CERRILLOS   \n",
       "4        3        9  CERRILLOS   \n",
       "\n",
       "                                            geometry  \n",
       "0  POLYGON ((-70.72166 -33.47385, -70.72197 -33.4...  \n",
       "1  POLYGON ((-70.72136 -33.47420, -70.72160 -33.4...  \n",
       "2  POLYGON ((-70.72105 -33.47455, -70.72124 -33.4...  \n",
       "3  POLYGON ((-70.72079 -33.47509, -70.72089 -33.4...  \n",
       "4  POLYGON ((-70.72052 -33.47563, -70.72052 -33.4...  "
      ],
      "text/html": [
       "<div>\n",
       "<style scoped>\n",
       "    .dataframe tbody tr th:only-of-type {\n",
       "        vertical-align: middle;\n",
       "    }\n",
       "\n",
       "    .dataframe tbody tr th {\n",
       "        vertical-align: top;\n",
       "    }\n",
       "\n",
       "    .dataframe thead th {\n",
       "        text-align: right;\n",
       "    }\n",
       "</style>\n",
       "<table border=\"1\" class=\"dataframe\">\n",
       "  <thead>\n",
       "    <tr style=\"text-align: right;\">\n",
       "      <th></th>\n",
       "      <th>COD_ZON</th>\n",
       "      <th>COD_ENT</th>\n",
       "      <th>DES_COMU</th>\n",
       "      <th>geometry</th>\n",
       "    </tr>\n",
       "  </thead>\n",
       "  <tbody>\n",
       "    <tr>\n",
       "      <th>0</th>\n",
       "      <td>3</td>\n",
       "      <td>1</td>\n",
       "      <td>CERRILLOS</td>\n",
       "      <td>POLYGON ((-70.72166 -33.47385, -70.72197 -33.4...</td>\n",
       "    </tr>\n",
       "    <tr>\n",
       "      <th>1</th>\n",
       "      <td>3</td>\n",
       "      <td>4</td>\n",
       "      <td>CERRILLOS</td>\n",
       "      <td>POLYGON ((-70.72136 -33.47420, -70.72160 -33.4...</td>\n",
       "    </tr>\n",
       "    <tr>\n",
       "      <th>2</th>\n",
       "      <td>3</td>\n",
       "      <td>5</td>\n",
       "      <td>CERRILLOS</td>\n",
       "      <td>POLYGON ((-70.72105 -33.47455, -70.72124 -33.4...</td>\n",
       "    </tr>\n",
       "    <tr>\n",
       "      <th>3</th>\n",
       "      <td>3</td>\n",
       "      <td>8</td>\n",
       "      <td>CERRILLOS</td>\n",
       "      <td>POLYGON ((-70.72079 -33.47509, -70.72089 -33.4...</td>\n",
       "    </tr>\n",
       "    <tr>\n",
       "      <th>4</th>\n",
       "      <td>3</td>\n",
       "      <td>9</td>\n",
       "      <td>CERRILLOS</td>\n",
       "      <td>POLYGON ((-70.72052 -33.47563, -70.72052 -33.4...</td>\n",
       "    </tr>\n",
       "  </tbody>\n",
       "</table>\n",
       "</div>"
      ]
     },
     "metadata": {},
     "execution_count": 30
    }
   ],
   "metadata": {}
  },
  {
   "cell_type": "code",
   "execution_count": 31,
   "source": [
    "from shapely import wkt\n",
    "df_manzana['str_geom'] = df_manzana.geometry.apply(lambda x: wkt.dumps(x))\n"
   ],
   "outputs": [],
   "metadata": {}
  },
  {
   "cell_type": "code",
   "execution_count": 32,
   "source": [
    "# Reviso que efectivamente sea un objeto.\n",
    "df_manzana.info()"
   ],
   "outputs": [
    {
     "output_type": "stream",
     "name": "stdout",
     "text": [
      "<class 'pandas.core.frame.DataFrame'>\n",
      "RangeIndex: 53053 entries, 0 to 53052\n",
      "Data columns (total 5 columns):\n",
      " #   Column    Non-Null Count  Dtype   \n",
      "---  ------    --------------  -----   \n",
      " 0   COD_ZON   53053 non-null  int64   \n",
      " 1   COD_ENT   53053 non-null  int64   \n",
      " 2   DES_COMU  53053 non-null  object  \n",
      " 3   geometry  53053 non-null  geometry\n",
      " 4   str_geom  53053 non-null  object  \n",
      "dtypes: geometry(1), int64(2), object(2)\n",
      "memory usage: 2.0+ MB\n"
     ]
    }
   ],
   "metadata": {}
  },
  {
   "cell_type": "code",
   "execution_count": 33,
   "source": [
    "# Le hago drop a la columna geometry.\n",
    "df_manzana"
   ],
   "outputs": [
    {
     "output_type": "execute_result",
     "data": {
      "text/plain": [
       "       COD_ZON  COD_ENT   DES_COMU  \\\n",
       "0            3        1  CERRILLOS   \n",
       "1            3        4  CERRILLOS   \n",
       "2            3        5  CERRILLOS   \n",
       "3            3        8  CERRILLOS   \n",
       "4            3        9  CERRILLOS   \n",
       "...        ...      ...        ...   \n",
       "53048        1      504   PEÑAFLOR   \n",
       "53049        1      503   PEÑAFLOR   \n",
       "53050        1      502   PEÑAFLOR   \n",
       "53051        1      505   PEÑAFLOR   \n",
       "53052        1      501   PEÑAFLOR   \n",
       "\n",
       "                                                geometry  \\\n",
       "0      POLYGON ((-70.72166 -33.47385, -70.72197 -33.4...   \n",
       "1      POLYGON ((-70.72136 -33.47420, -70.72160 -33.4...   \n",
       "2      POLYGON ((-70.72105 -33.47455, -70.72124 -33.4...   \n",
       "3      POLYGON ((-70.72079 -33.47509, -70.72089 -33.4...   \n",
       "4      POLYGON ((-70.72052 -33.47563, -70.72052 -33.4...   \n",
       "...                                                  ...   \n",
       "53048  POLYGON ((-70.87621 -33.61954, -70.87751 -33.6...   \n",
       "53049  POLYGON ((-70.87723 -33.61920, -70.87741 -33.6...   \n",
       "53050  POLYGON ((-70.87713 -33.61883, -70.87731 -33.6...   \n",
       "53051  POLYGON ((-70.87556 -33.61840, -70.87561 -33.6...   \n",
       "53052  POLYGON ((-70.87805 -33.62117, -70.87803 -33.6...   \n",
       "\n",
       "                                                str_geom  \n",
       "0      POLYGON ((-70.7216589929999486 -33.47385059999...  \n",
       "1      POLYGON ((-70.7213607679999541 -33.47419786999...  \n",
       "2      POLYGON ((-70.7210515589999886 -33.47455265899...  \n",
       "3      POLYGON ((-70.7207861479999451 -33.47508839599...  \n",
       "4      POLYGON ((-70.7205163859999857 -33.47562619999...  \n",
       "...                                                  ...  \n",
       "53048  POLYGON ((-70.8762076249999495 -33.61954234899...  \n",
       "53049  POLYGON ((-70.8772271449999494 -33.61920011299...  \n",
       "53050  POLYGON ((-70.8771337579999567 -33.61882508299...  \n",
       "53051  POLYGON ((-70.8755586659999608 -33.61839518899...  \n",
       "53052  POLYGON ((-70.8780467179999505 -33.62117069399...  \n",
       "\n",
       "[53053 rows x 5 columns]"
      ],
      "text/html": [
       "<div>\n",
       "<style scoped>\n",
       "    .dataframe tbody tr th:only-of-type {\n",
       "        vertical-align: middle;\n",
       "    }\n",
       "\n",
       "    .dataframe tbody tr th {\n",
       "        vertical-align: top;\n",
       "    }\n",
       "\n",
       "    .dataframe thead th {\n",
       "        text-align: right;\n",
       "    }\n",
       "</style>\n",
       "<table border=\"1\" class=\"dataframe\">\n",
       "  <thead>\n",
       "    <tr style=\"text-align: right;\">\n",
       "      <th></th>\n",
       "      <th>COD_ZON</th>\n",
       "      <th>COD_ENT</th>\n",
       "      <th>DES_COMU</th>\n",
       "      <th>geometry</th>\n",
       "      <th>str_geom</th>\n",
       "    </tr>\n",
       "  </thead>\n",
       "  <tbody>\n",
       "    <tr>\n",
       "      <th>0</th>\n",
       "      <td>3</td>\n",
       "      <td>1</td>\n",
       "      <td>CERRILLOS</td>\n",
       "      <td>POLYGON ((-70.72166 -33.47385, -70.72197 -33.4...</td>\n",
       "      <td>POLYGON ((-70.7216589929999486 -33.47385059999...</td>\n",
       "    </tr>\n",
       "    <tr>\n",
       "      <th>1</th>\n",
       "      <td>3</td>\n",
       "      <td>4</td>\n",
       "      <td>CERRILLOS</td>\n",
       "      <td>POLYGON ((-70.72136 -33.47420, -70.72160 -33.4...</td>\n",
       "      <td>POLYGON ((-70.7213607679999541 -33.47419786999...</td>\n",
       "    </tr>\n",
       "    <tr>\n",
       "      <th>2</th>\n",
       "      <td>3</td>\n",
       "      <td>5</td>\n",
       "      <td>CERRILLOS</td>\n",
       "      <td>POLYGON ((-70.72105 -33.47455, -70.72124 -33.4...</td>\n",
       "      <td>POLYGON ((-70.7210515589999886 -33.47455265899...</td>\n",
       "    </tr>\n",
       "    <tr>\n",
       "      <th>3</th>\n",
       "      <td>3</td>\n",
       "      <td>8</td>\n",
       "      <td>CERRILLOS</td>\n",
       "      <td>POLYGON ((-70.72079 -33.47509, -70.72089 -33.4...</td>\n",
       "      <td>POLYGON ((-70.7207861479999451 -33.47508839599...</td>\n",
       "    </tr>\n",
       "    <tr>\n",
       "      <th>4</th>\n",
       "      <td>3</td>\n",
       "      <td>9</td>\n",
       "      <td>CERRILLOS</td>\n",
       "      <td>POLYGON ((-70.72052 -33.47563, -70.72052 -33.4...</td>\n",
       "      <td>POLYGON ((-70.7205163859999857 -33.47562619999...</td>\n",
       "    </tr>\n",
       "    <tr>\n",
       "      <th>...</th>\n",
       "      <td>...</td>\n",
       "      <td>...</td>\n",
       "      <td>...</td>\n",
       "      <td>...</td>\n",
       "      <td>...</td>\n",
       "    </tr>\n",
       "    <tr>\n",
       "      <th>53048</th>\n",
       "      <td>1</td>\n",
       "      <td>504</td>\n",
       "      <td>PEÑAFLOR</td>\n",
       "      <td>POLYGON ((-70.87621 -33.61954, -70.87751 -33.6...</td>\n",
       "      <td>POLYGON ((-70.8762076249999495 -33.61954234899...</td>\n",
       "    </tr>\n",
       "    <tr>\n",
       "      <th>53049</th>\n",
       "      <td>1</td>\n",
       "      <td>503</td>\n",
       "      <td>PEÑAFLOR</td>\n",
       "      <td>POLYGON ((-70.87723 -33.61920, -70.87741 -33.6...</td>\n",
       "      <td>POLYGON ((-70.8772271449999494 -33.61920011299...</td>\n",
       "    </tr>\n",
       "    <tr>\n",
       "      <th>53050</th>\n",
       "      <td>1</td>\n",
       "      <td>502</td>\n",
       "      <td>PEÑAFLOR</td>\n",
       "      <td>POLYGON ((-70.87713 -33.61883, -70.87731 -33.6...</td>\n",
       "      <td>POLYGON ((-70.8771337579999567 -33.61882508299...</td>\n",
       "    </tr>\n",
       "    <tr>\n",
       "      <th>53051</th>\n",
       "      <td>1</td>\n",
       "      <td>505</td>\n",
       "      <td>PEÑAFLOR</td>\n",
       "      <td>POLYGON ((-70.87556 -33.61840, -70.87561 -33.6...</td>\n",
       "      <td>POLYGON ((-70.8755586659999608 -33.61839518899...</td>\n",
       "    </tr>\n",
       "    <tr>\n",
       "      <th>53052</th>\n",
       "      <td>1</td>\n",
       "      <td>501</td>\n",
       "      <td>PEÑAFLOR</td>\n",
       "      <td>POLYGON ((-70.87805 -33.62117, -70.87803 -33.6...</td>\n",
       "      <td>POLYGON ((-70.8780467179999505 -33.62117069399...</td>\n",
       "    </tr>\n",
       "  </tbody>\n",
       "</table>\n",
       "<p>53053 rows × 5 columns</p>\n",
       "</div>"
      ]
     },
     "metadata": {},
     "execution_count": 33
    }
   ],
   "metadata": {}
  },
  {
   "cell_type": "code",
   "execution_count": null,
   "source": [],
   "outputs": [],
   "metadata": {}
  }
 ],
 "metadata": {
  "interpreter": {
   "hash": "9f846f910e1fc2a82d5e4cecddffaf88e662d9c3b4dec9928cadb2d66ae08e55"
  },
  "kernelspec": {
   "display_name": "Python 3.6.13 64-bit ('pyspark3': conda)",
   "name": "python3"
  },
  "language_info": {
   "codemirror_mode": {
    "name": "ipython",
    "version": 3
   },
   "file_extension": ".py",
   "mimetype": "text/x-python",
   "name": "python",
   "nbconvert_exporter": "python",
   "pygments_lexer": "ipython3",
   "version": "3.6.13"
  },
  "orig_nbformat": 4
 },
 "nbformat": 4,
 "nbformat_minor": 2
}